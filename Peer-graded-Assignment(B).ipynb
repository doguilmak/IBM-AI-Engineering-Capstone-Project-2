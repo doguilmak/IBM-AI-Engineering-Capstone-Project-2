{
 "cells": [
  {
   "cell_type": "markdown",
   "id": "12441ca0-d16e-4c1f-b45c-cb84ade19731",
   "metadata": {},
   "source": [
    "## Assignment Topic:\n",
    "\n",
    "In this project, you will build a regression model using the Keras library to model the same data about concrete compressive strength that we used in labs 3.p In this course project, you will build a regression model using the deep learning Keras library, and then you will experiment with increasing the number of training epochs and changing number of hidden layers and you will see how changing these parameters impacts the performance of the model.\n",
    "\n",
    "### Increasing the Number of Training Epochs - 2"
   ]
  },
  {
   "cell_type": "markdown",
   "id": "6fb9f3f2",
   "metadata": {},
   "source": [
    "***"
   ]
  },
  {
   "cell_type": "markdown",
   "id": "19013627",
   "metadata": {},
   "source": [
    "## Data Preprocessing"
   ]
  },
  {
   "cell_type": "code",
   "execution_count": 1,
   "id": "16bc5007-ae3a-4326-af0f-3dac8a825993",
   "metadata": {},
   "outputs": [],
   "source": [
    "import pandas as pd\n",
    "import numpy as np"
   ]
  },
  {
   "cell_type": "code",
   "execution_count": 2,
   "id": "06850b57-3960-462d-85d1-be55cfc54d7e",
   "metadata": {},
   "outputs": [
    {
     "data": {
      "text/html": [
       "<div>\n",
       "<style scoped>\n",
       "    .dataframe tbody tr th:only-of-type {\n",
       "        vertical-align: middle;\n",
       "    }\n",
       "\n",
       "    .dataframe tbody tr th {\n",
       "        vertical-align: top;\n",
       "    }\n",
       "\n",
       "    .dataframe thead th {\n",
       "        text-align: right;\n",
       "    }\n",
       "</style>\n",
       "<table border=\"1\" class=\"dataframe\">\n",
       "  <thead>\n",
       "    <tr style=\"text-align: right;\">\n",
       "      <th></th>\n",
       "      <th>Cement</th>\n",
       "      <th>Blast Furnace Slag</th>\n",
       "      <th>Fly Ash</th>\n",
       "      <th>Water</th>\n",
       "      <th>Superplasticizer</th>\n",
       "      <th>Coarse Aggregate</th>\n",
       "      <th>Fine Aggregate</th>\n",
       "      <th>Age</th>\n",
       "      <th>Strength</th>\n",
       "    </tr>\n",
       "  </thead>\n",
       "  <tbody>\n",
       "    <tr>\n",
       "      <th>0</th>\n",
       "      <td>540.0</td>\n",
       "      <td>0.0</td>\n",
       "      <td>0.0</td>\n",
       "      <td>162.0</td>\n",
       "      <td>2.5</td>\n",
       "      <td>1040.0</td>\n",
       "      <td>676.0</td>\n",
       "      <td>28</td>\n",
       "      <td>79.99</td>\n",
       "    </tr>\n",
       "    <tr>\n",
       "      <th>1</th>\n",
       "      <td>540.0</td>\n",
       "      <td>0.0</td>\n",
       "      <td>0.0</td>\n",
       "      <td>162.0</td>\n",
       "      <td>2.5</td>\n",
       "      <td>1055.0</td>\n",
       "      <td>676.0</td>\n",
       "      <td>28</td>\n",
       "      <td>61.89</td>\n",
       "    </tr>\n",
       "    <tr>\n",
       "      <th>2</th>\n",
       "      <td>332.5</td>\n",
       "      <td>142.5</td>\n",
       "      <td>0.0</td>\n",
       "      <td>228.0</td>\n",
       "      <td>0.0</td>\n",
       "      <td>932.0</td>\n",
       "      <td>594.0</td>\n",
       "      <td>270</td>\n",
       "      <td>40.27</td>\n",
       "    </tr>\n",
       "    <tr>\n",
       "      <th>3</th>\n",
       "      <td>332.5</td>\n",
       "      <td>142.5</td>\n",
       "      <td>0.0</td>\n",
       "      <td>228.0</td>\n",
       "      <td>0.0</td>\n",
       "      <td>932.0</td>\n",
       "      <td>594.0</td>\n",
       "      <td>365</td>\n",
       "      <td>41.05</td>\n",
       "    </tr>\n",
       "    <tr>\n",
       "      <th>4</th>\n",
       "      <td>198.6</td>\n",
       "      <td>132.4</td>\n",
       "      <td>0.0</td>\n",
       "      <td>192.0</td>\n",
       "      <td>0.0</td>\n",
       "      <td>978.4</td>\n",
       "      <td>825.5</td>\n",
       "      <td>360</td>\n",
       "      <td>44.30</td>\n",
       "    </tr>\n",
       "  </tbody>\n",
       "</table>\n",
       "</div>"
      ],
      "text/plain": [
       "   Cement  Blast Furnace Slag  Fly Ash  Water  Superplasticizer  \\\n",
       "0   540.0                 0.0      0.0  162.0               2.5   \n",
       "1   540.0                 0.0      0.0  162.0               2.5   \n",
       "2   332.5               142.5      0.0  228.0               0.0   \n",
       "3   332.5               142.5      0.0  228.0               0.0   \n",
       "4   198.6               132.4      0.0  192.0               0.0   \n",
       "\n",
       "   Coarse Aggregate  Fine Aggregate  Age  Strength  \n",
       "0            1040.0           676.0   28     79.99  \n",
       "1            1055.0           676.0   28     61.89  \n",
       "2             932.0           594.0  270     40.27  \n",
       "3             932.0           594.0  365     41.05  \n",
       "4             978.4           825.5  360     44.30  "
      ]
     },
     "execution_count": 2,
     "metadata": {},
     "output_type": "execute_result"
    }
   ],
   "source": [
    "concrete_data = pd.read_csv('concrete_data.csv')\n",
    "concrete_data.head()"
   ]
  },
  {
   "cell_type": "markdown",
   "id": "5714fc96",
   "metadata": {},
   "source": [
    "So the first concrete sample has 540 cubic meter of cement, 0 cubic meter of blast furnace slag, 0 cubic meter of fly ash, 162 cubic meter of water, 2.5 cubic meter of superplaticizer, 1040 cubic meter of coarse aggregate, 676 cubic meter of fine aggregate. Such a concrete mix which is 28 days old, has a compressive strength of 79.99 MPa.\n",
    "\n",
    "Let's check how many data points we have."
   ]
  },
  {
   "cell_type": "code",
   "execution_count": 3,
   "id": "42e038d5-d998-4a95-b281-4433315f56ed",
   "metadata": {},
   "outputs": [
    {
     "data": {
      "text/plain": [
       "(1030, 9)"
      ]
     },
     "execution_count": 3,
     "metadata": {},
     "output_type": "execute_result"
    }
   ],
   "source": [
    "concrete_data.shape"
   ]
  },
  {
   "cell_type": "markdown",
   "id": "94a78d80",
   "metadata": {},
   "source": [
    "(1030, 9)\n",
    "So, there are approximately 1000 samples to train our model on. Because of the few samples, we have to be careful not to overfit the training data.\n",
    "\n",
    "Let's check the dataset for any missing values."
   ]
  },
  {
   "cell_type": "code",
   "execution_count": 4,
   "id": "74c56107-a4e7-4e25-a9f2-ca3053390672",
   "metadata": {},
   "outputs": [
    {
     "data": {
      "text/html": [
       "<div>\n",
       "<style scoped>\n",
       "    .dataframe tbody tr th:only-of-type {\n",
       "        vertical-align: middle;\n",
       "    }\n",
       "\n",
       "    .dataframe tbody tr th {\n",
       "        vertical-align: top;\n",
       "    }\n",
       "\n",
       "    .dataframe thead th {\n",
       "        text-align: right;\n",
       "    }\n",
       "</style>\n",
       "<table border=\"1\" class=\"dataframe\">\n",
       "  <thead>\n",
       "    <tr style=\"text-align: right;\">\n",
       "      <th></th>\n",
       "      <th>Cement</th>\n",
       "      <th>Blast Furnace Slag</th>\n",
       "      <th>Fly Ash</th>\n",
       "      <th>Water</th>\n",
       "      <th>Superplasticizer</th>\n",
       "      <th>Coarse Aggregate</th>\n",
       "      <th>Fine Aggregate</th>\n",
       "      <th>Age</th>\n",
       "      <th>Strength</th>\n",
       "    </tr>\n",
       "  </thead>\n",
       "  <tbody>\n",
       "    <tr>\n",
       "      <th>count</th>\n",
       "      <td>1030.000000</td>\n",
       "      <td>1030.000000</td>\n",
       "      <td>1030.000000</td>\n",
       "      <td>1030.000000</td>\n",
       "      <td>1030.000000</td>\n",
       "      <td>1030.000000</td>\n",
       "      <td>1030.000000</td>\n",
       "      <td>1030.000000</td>\n",
       "      <td>1030.000000</td>\n",
       "    </tr>\n",
       "    <tr>\n",
       "      <th>mean</th>\n",
       "      <td>281.167864</td>\n",
       "      <td>73.895825</td>\n",
       "      <td>54.188350</td>\n",
       "      <td>181.567282</td>\n",
       "      <td>6.204660</td>\n",
       "      <td>972.918932</td>\n",
       "      <td>773.580485</td>\n",
       "      <td>45.662136</td>\n",
       "      <td>35.817961</td>\n",
       "    </tr>\n",
       "    <tr>\n",
       "      <th>std</th>\n",
       "      <td>104.506364</td>\n",
       "      <td>86.279342</td>\n",
       "      <td>63.997004</td>\n",
       "      <td>21.354219</td>\n",
       "      <td>5.973841</td>\n",
       "      <td>77.753954</td>\n",
       "      <td>80.175980</td>\n",
       "      <td>63.169912</td>\n",
       "      <td>16.705742</td>\n",
       "    </tr>\n",
       "    <tr>\n",
       "      <th>min</th>\n",
       "      <td>102.000000</td>\n",
       "      <td>0.000000</td>\n",
       "      <td>0.000000</td>\n",
       "      <td>121.800000</td>\n",
       "      <td>0.000000</td>\n",
       "      <td>801.000000</td>\n",
       "      <td>594.000000</td>\n",
       "      <td>1.000000</td>\n",
       "      <td>2.330000</td>\n",
       "    </tr>\n",
       "    <tr>\n",
       "      <th>25%</th>\n",
       "      <td>192.375000</td>\n",
       "      <td>0.000000</td>\n",
       "      <td>0.000000</td>\n",
       "      <td>164.900000</td>\n",
       "      <td>0.000000</td>\n",
       "      <td>932.000000</td>\n",
       "      <td>730.950000</td>\n",
       "      <td>7.000000</td>\n",
       "      <td>23.710000</td>\n",
       "    </tr>\n",
       "    <tr>\n",
       "      <th>50%</th>\n",
       "      <td>272.900000</td>\n",
       "      <td>22.000000</td>\n",
       "      <td>0.000000</td>\n",
       "      <td>185.000000</td>\n",
       "      <td>6.400000</td>\n",
       "      <td>968.000000</td>\n",
       "      <td>779.500000</td>\n",
       "      <td>28.000000</td>\n",
       "      <td>34.445000</td>\n",
       "    </tr>\n",
       "    <tr>\n",
       "      <th>75%</th>\n",
       "      <td>350.000000</td>\n",
       "      <td>142.950000</td>\n",
       "      <td>118.300000</td>\n",
       "      <td>192.000000</td>\n",
       "      <td>10.200000</td>\n",
       "      <td>1029.400000</td>\n",
       "      <td>824.000000</td>\n",
       "      <td>56.000000</td>\n",
       "      <td>46.135000</td>\n",
       "    </tr>\n",
       "    <tr>\n",
       "      <th>max</th>\n",
       "      <td>540.000000</td>\n",
       "      <td>359.400000</td>\n",
       "      <td>200.100000</td>\n",
       "      <td>247.000000</td>\n",
       "      <td>32.200000</td>\n",
       "      <td>1145.000000</td>\n",
       "      <td>992.600000</td>\n",
       "      <td>365.000000</td>\n",
       "      <td>82.600000</td>\n",
       "    </tr>\n",
       "  </tbody>\n",
       "</table>\n",
       "</div>"
      ],
      "text/plain": [
       "            Cement  Blast Furnace Slag      Fly Ash        Water  \\\n",
       "count  1030.000000         1030.000000  1030.000000  1030.000000   \n",
       "mean    281.167864           73.895825    54.188350   181.567282   \n",
       "std     104.506364           86.279342    63.997004    21.354219   \n",
       "min     102.000000            0.000000     0.000000   121.800000   \n",
       "25%     192.375000            0.000000     0.000000   164.900000   \n",
       "50%     272.900000           22.000000     0.000000   185.000000   \n",
       "75%     350.000000          142.950000   118.300000   192.000000   \n",
       "max     540.000000          359.400000   200.100000   247.000000   \n",
       "\n",
       "       Superplasticizer  Coarse Aggregate  Fine Aggregate          Age  \\\n",
       "count       1030.000000       1030.000000     1030.000000  1030.000000   \n",
       "mean           6.204660        972.918932      773.580485    45.662136   \n",
       "std            5.973841         77.753954       80.175980    63.169912   \n",
       "min            0.000000        801.000000      594.000000     1.000000   \n",
       "25%            0.000000        932.000000      730.950000     7.000000   \n",
       "50%            6.400000        968.000000      779.500000    28.000000   \n",
       "75%           10.200000       1029.400000      824.000000    56.000000   \n",
       "max           32.200000       1145.000000      992.600000   365.000000   \n",
       "\n",
       "          Strength  \n",
       "count  1030.000000  \n",
       "mean     35.817961  \n",
       "std      16.705742  \n",
       "min       2.330000  \n",
       "25%      23.710000  \n",
       "50%      34.445000  \n",
       "75%      46.135000  \n",
       "max      82.600000  "
      ]
     },
     "execution_count": 4,
     "metadata": {},
     "output_type": "execute_result"
    }
   ],
   "source": [
    "concrete_data.describe()"
   ]
  },
  {
   "cell_type": "code",
   "execution_count": 5,
   "id": "4193f683-2f9c-47b8-b797-da8241f8524c",
   "metadata": {},
   "outputs": [
    {
     "data": {
      "text/plain": [
       "Cement                0\n",
       "Blast Furnace Slag    0\n",
       "Fly Ash               0\n",
       "Water                 0\n",
       "Superplasticizer      0\n",
       "Coarse Aggregate      0\n",
       "Fine Aggregate        0\n",
       "Age                   0\n",
       "Strength              0\n",
       "dtype: int64"
      ]
     },
     "execution_count": 5,
     "metadata": {},
     "output_type": "execute_result"
    }
   ],
   "source": [
    "concrete_data.isnull().sum()"
   ]
  },
  {
   "cell_type": "markdown",
   "id": "f8d1b87f-5e7a-4990-9c45-58004e24abfe",
   "metadata": {
    "tags": []
   },
   "source": [
    "The data looks very clean and is ready to be used to build our model."
   ]
  },
  {
   "cell_type": "code",
   "execution_count": 6,
   "id": "3245b7e2-3392-44bd-a86c-2146723dd684",
   "metadata": {},
   "outputs": [],
   "source": [
    "concrete_data_columns = concrete_data.columns\n",
    "\n",
    "target = concrete_data[\"Strength\"]\n",
    "predictors = concrete_data.drop([\"Strength\", \"Age\"], axis=1)"
   ]
  },
  {
   "cell_type": "markdown",
   "id": "d56ff165",
   "metadata": {},
   "source": [
    "Let's do a quick sanity check of the predictors and the target dataframes."
   ]
  },
  {
   "cell_type": "code",
   "execution_count": 7,
   "id": "281d09c1-32c8-43df-8deb-68b46ae069de",
   "metadata": {},
   "outputs": [
    {
     "data": {
      "text/html": [
       "<div>\n",
       "<style scoped>\n",
       "    .dataframe tbody tr th:only-of-type {\n",
       "        vertical-align: middle;\n",
       "    }\n",
       "\n",
       "    .dataframe tbody tr th {\n",
       "        vertical-align: top;\n",
       "    }\n",
       "\n",
       "    .dataframe thead th {\n",
       "        text-align: right;\n",
       "    }\n",
       "</style>\n",
       "<table border=\"1\" class=\"dataframe\">\n",
       "  <thead>\n",
       "    <tr style=\"text-align: right;\">\n",
       "      <th></th>\n",
       "      <th>Cement</th>\n",
       "      <th>Blast Furnace Slag</th>\n",
       "      <th>Fly Ash</th>\n",
       "      <th>Water</th>\n",
       "      <th>Superplasticizer</th>\n",
       "      <th>Coarse Aggregate</th>\n",
       "      <th>Fine Aggregate</th>\n",
       "    </tr>\n",
       "  </thead>\n",
       "  <tbody>\n",
       "    <tr>\n",
       "      <th>0</th>\n",
       "      <td>540.0</td>\n",
       "      <td>0.0</td>\n",
       "      <td>0.0</td>\n",
       "      <td>162.0</td>\n",
       "      <td>2.5</td>\n",
       "      <td>1040.0</td>\n",
       "      <td>676.0</td>\n",
       "    </tr>\n",
       "    <tr>\n",
       "      <th>1</th>\n",
       "      <td>540.0</td>\n",
       "      <td>0.0</td>\n",
       "      <td>0.0</td>\n",
       "      <td>162.0</td>\n",
       "      <td>2.5</td>\n",
       "      <td>1055.0</td>\n",
       "      <td>676.0</td>\n",
       "    </tr>\n",
       "    <tr>\n",
       "      <th>2</th>\n",
       "      <td>332.5</td>\n",
       "      <td>142.5</td>\n",
       "      <td>0.0</td>\n",
       "      <td>228.0</td>\n",
       "      <td>0.0</td>\n",
       "      <td>932.0</td>\n",
       "      <td>594.0</td>\n",
       "    </tr>\n",
       "    <tr>\n",
       "      <th>3</th>\n",
       "      <td>332.5</td>\n",
       "      <td>142.5</td>\n",
       "      <td>0.0</td>\n",
       "      <td>228.0</td>\n",
       "      <td>0.0</td>\n",
       "      <td>932.0</td>\n",
       "      <td>594.0</td>\n",
       "    </tr>\n",
       "    <tr>\n",
       "      <th>4</th>\n",
       "      <td>198.6</td>\n",
       "      <td>132.4</td>\n",
       "      <td>0.0</td>\n",
       "      <td>192.0</td>\n",
       "      <td>0.0</td>\n",
       "      <td>978.4</td>\n",
       "      <td>825.5</td>\n",
       "    </tr>\n",
       "  </tbody>\n",
       "</table>\n",
       "</div>"
      ],
      "text/plain": [
       "   Cement  Blast Furnace Slag  Fly Ash  Water  Superplasticizer  \\\n",
       "0   540.0                 0.0      0.0  162.0               2.5   \n",
       "1   540.0                 0.0      0.0  162.0               2.5   \n",
       "2   332.5               142.5      0.0  228.0               0.0   \n",
       "3   332.5               142.5      0.0  228.0               0.0   \n",
       "4   198.6               132.4      0.0  192.0               0.0   \n",
       "\n",
       "   Coarse Aggregate  Fine Aggregate  \n",
       "0            1040.0           676.0  \n",
       "1            1055.0           676.0  \n",
       "2             932.0           594.0  \n",
       "3             932.0           594.0  \n",
       "4             978.4           825.5  "
      ]
     },
     "execution_count": 7,
     "metadata": {},
     "output_type": "execute_result"
    }
   ],
   "source": [
    "predictors.head()"
   ]
  },
  {
   "cell_type": "code",
   "execution_count": 8,
   "id": "869bb6cc-a513-4905-8b9d-1905ef74d43b",
   "metadata": {},
   "outputs": [
    {
     "data": {
      "text/plain": [
       "0    79.99\n",
       "1    61.89\n",
       "2    40.27\n",
       "3    41.05\n",
       "4    44.30\n",
       "Name: Strength, dtype: float64"
      ]
     },
     "execution_count": 8,
     "metadata": {},
     "output_type": "execute_result"
    }
   ],
   "source": [
    "target.head()"
   ]
  },
  {
   "cell_type": "code",
   "execution_count": 9,
   "id": "a1d22723-aeeb-4825-afb9-42a85f55d163",
   "metadata": {},
   "outputs": [
    {
     "data": {
      "text/html": [
       "<div>\n",
       "<style scoped>\n",
       "    .dataframe tbody tr th:only-of-type {\n",
       "        vertical-align: middle;\n",
       "    }\n",
       "\n",
       "    .dataframe tbody tr th {\n",
       "        vertical-align: top;\n",
       "    }\n",
       "\n",
       "    .dataframe thead th {\n",
       "        text-align: right;\n",
       "    }\n",
       "</style>\n",
       "<table border=\"1\" class=\"dataframe\">\n",
       "  <thead>\n",
       "    <tr style=\"text-align: right;\">\n",
       "      <th></th>\n",
       "      <th>Cement</th>\n",
       "      <th>Blast Furnace Slag</th>\n",
       "      <th>Fly Ash</th>\n",
       "      <th>Water</th>\n",
       "      <th>Superplasticizer</th>\n",
       "      <th>Coarse Aggregate</th>\n",
       "      <th>Fine Aggregate</th>\n",
       "    </tr>\n",
       "  </thead>\n",
       "  <tbody>\n",
       "    <tr>\n",
       "      <th>0</th>\n",
       "      <td>2.476712</td>\n",
       "      <td>-0.856472</td>\n",
       "      <td>-0.846733</td>\n",
       "      <td>-0.916319</td>\n",
       "      <td>-0.620147</td>\n",
       "      <td>0.862735</td>\n",
       "      <td>-1.217079</td>\n",
       "    </tr>\n",
       "    <tr>\n",
       "      <th>1</th>\n",
       "      <td>2.476712</td>\n",
       "      <td>-0.856472</td>\n",
       "      <td>-0.846733</td>\n",
       "      <td>-0.916319</td>\n",
       "      <td>-0.620147</td>\n",
       "      <td>1.055651</td>\n",
       "      <td>-1.217079</td>\n",
       "    </tr>\n",
       "    <tr>\n",
       "      <th>2</th>\n",
       "      <td>0.491187</td>\n",
       "      <td>0.795140</td>\n",
       "      <td>-0.846733</td>\n",
       "      <td>2.174405</td>\n",
       "      <td>-1.038638</td>\n",
       "      <td>-0.526262</td>\n",
       "      <td>-2.239829</td>\n",
       "    </tr>\n",
       "    <tr>\n",
       "      <th>3</th>\n",
       "      <td>0.491187</td>\n",
       "      <td>0.795140</td>\n",
       "      <td>-0.846733</td>\n",
       "      <td>2.174405</td>\n",
       "      <td>-1.038638</td>\n",
       "      <td>-0.526262</td>\n",
       "      <td>-2.239829</td>\n",
       "    </tr>\n",
       "    <tr>\n",
       "      <th>4</th>\n",
       "      <td>-0.790075</td>\n",
       "      <td>0.678079</td>\n",
       "      <td>-0.846733</td>\n",
       "      <td>0.488555</td>\n",
       "      <td>-1.038638</td>\n",
       "      <td>0.070492</td>\n",
       "      <td>0.647569</td>\n",
       "    </tr>\n",
       "  </tbody>\n",
       "</table>\n",
       "</div>"
      ],
      "text/plain": [
       "     Cement  Blast Furnace Slag   Fly Ash     Water  Superplasticizer  \\\n",
       "0  2.476712           -0.856472 -0.846733 -0.916319         -0.620147   \n",
       "1  2.476712           -0.856472 -0.846733 -0.916319         -0.620147   \n",
       "2  0.491187            0.795140 -0.846733  2.174405         -1.038638   \n",
       "3  0.491187            0.795140 -0.846733  2.174405         -1.038638   \n",
       "4 -0.790075            0.678079 -0.846733  0.488555         -1.038638   \n",
       "\n",
       "   Coarse Aggregate  Fine Aggregate  \n",
       "0          0.862735       -1.217079  \n",
       "1          1.055651       -1.217079  \n",
       "2         -0.526262       -2.239829  \n",
       "3         -0.526262       -2.239829  \n",
       "4          0.070492        0.647569  "
      ]
     },
     "execution_count": 9,
     "metadata": {},
     "output_type": "execute_result"
    }
   ],
   "source": [
    "predictors_norm = (predictors - predictors.mean()) / predictors.std()\n",
    "predictors_norm.head()"
   ]
  },
  {
   "cell_type": "code",
   "execution_count": 10,
   "id": "b4166a4d-d86e-4798-9285-4496e156d079",
   "metadata": {},
   "outputs": [
    {
     "data": {
      "text/plain": [
       "7"
      ]
     },
     "execution_count": 10,
     "metadata": {},
     "output_type": "execute_result"
    }
   ],
   "source": [
    "n_cols = predictors_norm.shape[1]  # number of predictors\n",
    "n_cols"
   ]
  },
  {
   "cell_type": "markdown",
   "id": "e316b9bc",
   "metadata": {},
   "source": [
    "***"
   ]
  },
  {
   "cell_type": "markdown",
   "id": "c6f3164a",
   "metadata": {},
   "source": [
    "## Keras\n",
    "\n",
    "Recall from the videos that Keras normally runs on top of a low-level library such as TensorFlow. This means that to be able to use the Keras library, you will have to install TensorFlow first and when you import the Keras library, it will be explicitly displayed what backend was used to install the Keras library. In CC Labs, we used TensorFlow as the backend to install Keras, so it should clearly print that when we import Keras."
   ]
  },
  {
   "cell_type": "code",
   "execution_count": 11,
   "id": "369a4d20-3318-486c-841a-6036b877e9d8",
   "metadata": {},
   "outputs": [],
   "source": [
    "import warnings\n",
    "warnings.filterwarnings(\"ignore\")\n",
    "import keras"
   ]
  },
  {
   "cell_type": "code",
   "execution_count": 12,
   "id": "f66eb622-09a3-4625-b491-4d7f16659d2e",
   "metadata": {},
   "outputs": [],
   "source": [
    "from keras.models import Sequential\n",
    "from keras.layers import Dense"
   ]
  },
  {
   "cell_type": "markdown",
   "id": "f42cf42c",
   "metadata": {},
   "source": [
    "## Build a Neural Network\n",
    "\n",
    "Let's define a function that defines our regression model for us so that we can conveniently call it to create our model.\n"
   ]
  },
  {
   "cell_type": "code",
   "execution_count": 13,
   "id": "c5628e95-e609-451f-943e-1145d51ccb38",
   "metadata": {},
   "outputs": [],
   "source": [
    "# define regression model\n",
    "def regression_model():\n",
    "    # 1-Create model\n",
    "    model = Sequential()\n",
    "    model.add(Dense(50, activation='relu', input_shape=(n_cols,)))\n",
    "    model.add(Dense(50, activation='relu'))\n",
    "    model.add(Dense(1))\n",
    "    \n",
    "    # 2-Compile model\n",
    "    model.compile(optimizer='adam', loss='mean_squared_error')\n",
    "    return model"
   ]
  },
  {
   "cell_type": "code",
   "execution_count": 14,
   "id": "8d40b0be-211a-40b4-a0f2-81921571eb70",
   "metadata": {},
   "outputs": [],
   "source": [
    "from sklearn.model_selection import train_test_split"
   ]
  },
  {
   "cell_type": "code",
   "execution_count": 15,
   "id": "9aae7026-a466-42ec-8dce-55922fcddd30",
   "metadata": {},
   "outputs": [],
   "source": [
    "X_train, X_test, y_train, y_test = train_test_split(predictors, target, test_size=0.3, random_state=42)"
   ]
  },
  {
   "cell_type": "code",
   "execution_count": 16,
   "id": "99d9aa01-f42c-423f-b455-842b26c6b602",
   "metadata": {},
   "outputs": [],
   "source": [
    "model = regression_model()"
   ]
  },
  {
   "cell_type": "code",
   "execution_count": 17,
   "id": "d7fbe62c-9cd3-4c02-b79b-795193062f9b",
   "metadata": {},
   "outputs": [
    {
     "name": "stdout",
     "output_type": "stream",
     "text": [
      "Epoch 1/120\n",
      "23/23 [==============================] - 0s 2ms/step - loss: 29148.1445\n",
      "Epoch 2/120\n",
      "23/23 [==============================] - 0s 2ms/step - loss: 1629.3865\n",
      "Epoch 3/120\n",
      "23/23 [==============================] - 0s 2ms/step - loss: 397.6479\n",
      "Epoch 4/120\n",
      "23/23 [==============================] - 0s 2ms/step - loss: 282.4565\n",
      "Epoch 5/120\n",
      "23/23 [==============================] - 0s 2ms/step - loss: 243.9864\n",
      "Epoch 6/120\n",
      "23/23 [==============================] - 0s 1ms/step - loss: 222.6523\n",
      "Epoch 7/120\n",
      "23/23 [==============================] - 0s 2ms/step - loss: 211.3314\n",
      "Epoch 8/120\n",
      "23/23 [==============================] - 0s 1ms/step - loss: 203.4998\n",
      "Epoch 9/120\n",
      "23/23 [==============================] - 0s 1ms/step - loss: 199.1552\n",
      "Epoch 10/120\n",
      "23/23 [==============================] - ETA: 0s - loss: 148.668 - 0s 1ms/step - loss: 193.0871\n",
      "Epoch 11/120\n",
      "23/23 [==============================] - 0s 2ms/step - loss: 189.8641\n",
      "Epoch 12/120\n",
      "23/23 [==============================] - 0s 1ms/step - loss: 188.9929\n",
      "Epoch 13/120\n",
      "23/23 [==============================] - 0s 1ms/step - loss: 179.9447\n",
      "Epoch 14/120\n",
      "23/23 [==============================] - 0s 1ms/step - loss: 178.7395\n",
      "Epoch 15/120\n",
      "23/23 [==============================] - 0s 1ms/step - loss: 173.8253\n",
      "Epoch 16/120\n",
      "23/23 [==============================] - 0s 1ms/step - loss: 170.5063\n",
      "Epoch 17/120\n",
      "23/23 [==============================] - 0s 1ms/step - loss: 178.2961\n",
      "Epoch 18/120\n",
      "23/23 [==============================] - 0s 1ms/step - loss: 170.4096\n",
      "Epoch 19/120\n",
      "23/23 [==============================] - ETA: 0s - loss: 222.040 - 0s 1ms/step - loss: 164.1073\n",
      "Epoch 20/120\n",
      "23/23 [==============================] - ETA: 0s - loss: 189.174 - 0s 2ms/step - loss: 167.0980\n",
      "Epoch 21/120\n",
      "23/23 [==============================] - 0s 2ms/step - loss: 163.3873\n",
      "Epoch 22/120\n",
      "23/23 [==============================] - 0s 2ms/step - loss: 163.1535\n",
      "Epoch 23/120\n",
      "23/23 [==============================] - ETA: 0s - loss: 107.710 - 0s 2ms/step - loss: 163.5795\n",
      "Epoch 24/120\n",
      "23/23 [==============================] - 0s 2ms/step - loss: 163.2374\n",
      "Epoch 25/120\n",
      "23/23 [==============================] - 0s 2ms/step - loss: 167.1622\n",
      "Epoch 26/120\n",
      "23/23 [==============================] - 0s 1ms/step - loss: 156.4039\n",
      "Epoch 27/120\n",
      "23/23 [==============================] - 0s 1ms/step - loss: 156.5329\n",
      "Epoch 28/120\n",
      "23/23 [==============================] - 0s 1ms/step - loss: 156.9041\n",
      "Epoch 29/120\n",
      "23/23 [==============================] - 0s 1ms/step - loss: 159.3232\n",
      "Epoch 30/120\n",
      "23/23 [==============================] - 0s 2ms/step - loss: 156.4604\n",
      "Epoch 31/120\n",
      "23/23 [==============================] - 0s 1ms/step - loss: 159.8759\n",
      "Epoch 32/120\n",
      "23/23 [==============================] - ETA: 0s - loss: 168.352 - 0s 1ms/step - loss: 154.7584\n",
      "Epoch 33/120\n",
      "23/23 [==============================] - 0s 1ms/step - loss: 156.1248\n",
      "Epoch 34/120\n",
      "23/23 [==============================] - 0s 2ms/step - loss: 151.5508\n",
      "Epoch 35/120\n",
      "23/23 [==============================] - 0s 2ms/step - loss: 153.5525\n",
      "Epoch 36/120\n",
      "23/23 [==============================] - 0s 3ms/step - loss: 163.3144\n",
      "Epoch 37/120\n",
      "23/23 [==============================] - 0s 3ms/step - loss: 150.7024\n",
      "Epoch 38/120\n",
      "23/23 [==============================] - 0s 3ms/step - loss: 151.6003\n",
      "Epoch 39/120\n",
      "23/23 [==============================] - 0s 3ms/step - loss: 155.2964\n",
      "Epoch 40/120\n",
      "23/23 [==============================] - 0s 2ms/step - loss: 149.4400\n",
      "Epoch 41/120\n",
      "23/23 [==============================] - 0s 1ms/step - loss: 149.5843\n",
      "Epoch 42/120\n",
      "23/23 [==============================] - 0s 1ms/step - loss: 155.5564\n",
      "Epoch 43/120\n",
      "23/23 [==============================] - 0s 1ms/step - loss: 155.5303\n",
      "Epoch 44/120\n",
      "23/23 [==============================] - 0s 2ms/step - loss: 150.1272\n",
      "Epoch 45/120\n",
      "23/23 [==============================] - 0s 2ms/step - loss: 150.5745\n",
      "Epoch 46/120\n",
      "23/23 [==============================] - 0s 3ms/step - loss: 154.8369\n",
      "Epoch 47/120\n",
      "23/23 [==============================] - 0s 3ms/step - loss: 152.6439\n",
      "Epoch 48/120\n",
      "23/23 [==============================] - 0s 2ms/step - loss: 150.4753\n",
      "Epoch 49/120\n",
      "23/23 [==============================] - 0s 1ms/step - loss: 154.4574\n",
      "Epoch 50/120\n",
      "23/23 [==============================] - 0s 1ms/step - loss: 149.5831\n",
      "Epoch 51/120\n",
      "23/23 [==============================] - 0s 1ms/step - loss: 150.5844\n",
      "Epoch 52/120\n",
      "23/23 [==============================] - ETA: 0s - loss: 202.826 - 0s 1ms/step - loss: 153.4263\n",
      "Epoch 53/120\n",
      "23/23 [==============================] - 0s 1ms/step - loss: 148.9087\n",
      "Epoch 54/120\n",
      "23/23 [==============================] - 0s 2ms/step - loss: 149.5100\n",
      "Epoch 55/120\n",
      "23/23 [==============================] - ETA: 0s - loss: 151.690 - 0s 1ms/step - loss: 148.0067\n",
      "Epoch 56/120\n",
      "23/23 [==============================] - 0s 997us/step - loss: 151.2383\n",
      "Epoch 57/120\n",
      "23/23 [==============================] - 0s 1ms/step - loss: 149.1725\n",
      "Epoch 58/120\n",
      "23/23 [==============================] - 0s 1ms/step - loss: 146.9892\n",
      "Epoch 59/120\n",
      "23/23 [==============================] - 0s 1ms/step - loss: 147.7932\n",
      "Epoch 60/120\n",
      "23/23 [==============================] - 0s 1ms/step - loss: 148.9088\n",
      "Epoch 61/120\n",
      "23/23 [==============================] - 0s 1ms/step - loss: 147.1193\n",
      "Epoch 62/120\n",
      "23/23 [==============================] - 0s 1ms/step - loss: 148.3688\n",
      "Epoch 63/120\n",
      "23/23 [==============================] - 0s 1ms/step - loss: 150.4104\n",
      "Epoch 64/120\n",
      "23/23 [==============================] - 0s 1ms/step - loss: 151.3415\n",
      "Epoch 65/120\n",
      "23/23 [==============================] - 0s 1ms/step - loss: 148.3500\n",
      "Epoch 66/120\n",
      "23/23 [==============================] - 0s 2ms/step - loss: 152.5034\n",
      "Epoch 67/120\n",
      "23/23 [==============================] - 0s 1ms/step - loss: 154.0650\n",
      "Epoch 68/120\n",
      "23/23 [==============================] - 0s 1ms/step - loss: 146.1259\n",
      "Epoch 69/120\n",
      "23/23 [==============================] - 0s 1ms/step - loss: 145.6630\n",
      "Epoch 70/120\n",
      "23/23 [==============================] - 0s 1ms/step - loss: 149.1092\n",
      "Epoch 71/120\n",
      "23/23 [==============================] - 0s 1ms/step - loss: 147.3585\n",
      "Epoch 72/120\n",
      "23/23 [==============================] - 0s 1ms/step - loss: 158.8946\n",
      "Epoch 73/120\n",
      "23/23 [==============================] - 0s 1ms/step - loss: 151.3560\n",
      "Epoch 74/120\n",
      "23/23 [==============================] - 0s 1ms/step - loss: 159.4344\n",
      "Epoch 75/120\n",
      "23/23 [==============================] - 0s 1ms/step - loss: 144.1664\n",
      "Epoch 76/120\n",
      "23/23 [==============================] - ETA: 0s - loss: 178.300 - 0s 1ms/step - loss: 145.4447\n",
      "Epoch 77/120\n",
      "23/23 [==============================] - 0s 1ms/step - loss: 156.8347\n",
      "Epoch 78/120\n",
      "23/23 [==============================] - 0s 1ms/step - loss: 165.6825\n",
      "Epoch 79/120\n",
      "23/23 [==============================] - 0s 1ms/step - loss: 160.8759\n",
      "Epoch 80/120\n",
      "23/23 [==============================] - 0s 1ms/step - loss: 142.9593\n",
      "Epoch 81/120\n",
      "23/23 [==============================] - 0s 1ms/step - loss: 142.7797\n",
      "Epoch 82/120\n",
      "23/23 [==============================] - 0s 1ms/step - loss: 144.5402\n",
      "Epoch 83/120\n",
      "23/23 [==============================] - 0s 1ms/step - loss: 150.4706\n",
      "Epoch 84/120\n",
      "23/23 [==============================] - 0s 1ms/step - loss: 150.6858\n",
      "Epoch 85/120\n",
      "23/23 [==============================] - 0s 1ms/step - loss: 155.2252\n",
      "Epoch 86/120\n",
      "23/23 [==============================] - 0s 1ms/step - loss: 149.9148\n",
      "Epoch 87/120\n",
      "23/23 [==============================] - 0s 1ms/step - loss: 146.4516\n",
      "Epoch 88/120\n",
      "23/23 [==============================] - 0s 1ms/step - loss: 146.5066\n",
      "Epoch 89/120\n",
      "23/23 [==============================] - ETA: 0s - loss: 149.383 - 0s 1ms/step - loss: 146.6145\n",
      "Epoch 90/120\n",
      "23/23 [==============================] - 0s 1ms/step - loss: 143.8783\n",
      "Epoch 91/120\n",
      "23/23 [==============================] - 0s 1ms/step - loss: 147.8262\n",
      "Epoch 92/120\n",
      "23/23 [==============================] - 0s 1ms/step - loss: 142.6006\n",
      "Epoch 93/120\n",
      "23/23 [==============================] - 0s 1ms/step - loss: 146.7175\n",
      "Epoch 94/120\n",
      "23/23 [==============================] - 0s 1ms/step - loss: 143.5654\n",
      "Epoch 95/120\n",
      "23/23 [==============================] - 0s 1ms/step - loss: 144.9702\n",
      "Epoch 96/120\n"
     ]
    },
    {
     "name": "stdout",
     "output_type": "stream",
     "text": [
      "23/23 [==============================] - 0s 1ms/step - loss: 145.3873\n",
      "Epoch 97/120\n",
      "23/23 [==============================] - 0s 1ms/step - loss: 144.6744\n",
      "Epoch 98/120\n",
      "23/23 [==============================] - 0s 1ms/step - loss: 144.2365\n",
      "Epoch 99/120\n",
      "23/23 [==============================] - 0s 1ms/step - loss: 146.0400\n",
      "Epoch 100/120\n",
      "23/23 [==============================] - 0s 1ms/step - loss: 144.4123\n",
      "Epoch 101/120\n",
      "23/23 [==============================] - 0s 1ms/step - loss: 145.5309\n",
      "Epoch 102/120\n",
      "23/23 [==============================] - 0s 1ms/step - loss: 151.6246\n",
      "Epoch 103/120\n",
      "23/23 [==============================] - 0s 1ms/step - loss: 142.2427\n",
      "Epoch 104/120\n",
      "23/23 [==============================] - 0s 1ms/step - loss: 145.9662\n",
      "Epoch 105/120\n",
      "23/23 [==============================] - 0s 1ms/step - loss: 155.3216\n",
      "Epoch 106/120\n",
      "23/23 [==============================] - 0s 1ms/step - loss: 142.5934\n",
      "Epoch 107/120\n",
      "23/23 [==============================] - 0s 1ms/step - loss: 153.5686\n",
      "Epoch 108/120\n",
      "23/23 [==============================] - 0s 1ms/step - loss: 168.8312\n",
      "Epoch 109/120\n",
      "23/23 [==============================] - 0s 1ms/step - loss: 159.2773\n",
      "Epoch 110/120\n",
      "23/23 [==============================] - 0s 1ms/step - loss: 148.6514\n",
      "Epoch 111/120\n",
      "23/23 [==============================] - 0s 1ms/step - loss: 165.7932\n",
      "Epoch 112/120\n",
      "23/23 [==============================] - 0s 1ms/step - loss: 149.0023\n",
      "Epoch 113/120\n",
      "23/23 [==============================] - 0s 1ms/step - loss: 148.1015\n",
      "Epoch 114/120\n",
      "23/23 [==============================] - 0s 1ms/step - loss: 144.5820\n",
      "Epoch 115/120\n",
      "23/23 [==============================] - 0s 1ms/step - loss: 149.0321\n",
      "Epoch 116/120\n",
      "23/23 [==============================] - 0s 1ms/step - loss: 156.5329\n",
      "Epoch 117/120\n",
      "23/23 [==============================] - 0s 1ms/step - loss: 147.1554\n",
      "Epoch 118/120\n",
      "23/23 [==============================] - 0s 1ms/step - loss: 186.0854\n",
      "Epoch 119/120\n",
      "23/23 [==============================] - 0s 1ms/step - loss: 157.2178\n",
      "Epoch 120/120\n",
      "23/23 [==============================] - 0s 1ms/step - loss: 146.4269\n"
     ]
    },
    {
     "data": {
      "text/plain": [
       "<keras.callbacks.History at 0x24cf7f3af70>"
      ]
     },
     "execution_count": 17,
     "metadata": {},
     "output_type": "execute_result"
    }
   ],
   "source": [
    "epochs = 120\n",
    "model.fit(X_train, y_train, epochs=epochs, verbose=1)"
   ]
  },
  {
   "cell_type": "code",
   "execution_count": 18,
   "id": "0d30c599-49a6-416a-9984-0b0c9a42c131",
   "metadata": {},
   "outputs": [
    {
     "name": "stdout",
     "output_type": "stream",
     "text": [
      "10/10 [==============================] - 0s 1ms/step - loss: 153.2946\n"
     ]
    },
    {
     "data": {
      "text/plain": [
       "153.2946319580078"
      ]
     },
     "execution_count": 18,
     "metadata": {},
     "output_type": "execute_result"
    }
   ],
   "source": [
    "loss_val = model.evaluate(X_test, y_test)\n",
    "y_pred = model.predict(X_test)\n",
    "loss_val"
   ]
  },
  {
   "cell_type": "markdown",
   "id": "1afc0f85",
   "metadata": {},
   "source": [
    "***"
   ]
  },
  {
   "cell_type": "markdown",
   "id": "7a2bdbf7",
   "metadata": {},
   "source": [
    "### Mean Squared Error"
   ]
  },
  {
   "cell_type": "code",
   "execution_count": 19,
   "id": "64a983f8-3642-4098-aeef-b1686f9b8e6d",
   "metadata": {},
   "outputs": [],
   "source": [
    "from sklearn.metrics import mean_squared_error"
   ]
  },
  {
   "cell_type": "code",
   "execution_count": 20,
   "id": "bc9d4779-f740-48ac-ae15-6d375f86cb3c",
   "metadata": {},
   "outputs": [
    {
     "name": "stdout",
     "output_type": "stream",
     "text": [
      "Mean: 153.29465370223676\n",
      "Standard Deviation: 0.0\n"
     ]
    }
   ],
   "source": [
    "mean_square_error = mean_squared_error(y_test, y_pred)\n",
    "mean = np.mean(mean_square_error)\n",
    "standard_deviation = np.std(mean_square_error)\n",
    "print(f\"Mean: {mean}\\nStandard Deviation: {standard_deviation}\")"
   ]
  },
  {
   "cell_type": "code",
   "execution_count": null,
   "id": "87c86cce-2e4c-4e9e-9007-404c8c586a63",
   "metadata": {},
   "outputs": [],
   "source": []
  }
 ],
 "metadata": {
  "kernelspec": {
   "display_name": "Python 3 (ipykernel)",
   "language": "python",
   "name": "python3"
  },
  "language_info": {
   "codemirror_mode": {
    "name": "ipython",
    "version": 3
   },
   "file_extension": ".py",
   "mimetype": "text/x-python",
   "name": "python",
   "nbconvert_exporter": "python",
   "pygments_lexer": "ipython3",
   "version": "3.9.7"
  }
 },
 "nbformat": 4,
 "nbformat_minor": 5
}
