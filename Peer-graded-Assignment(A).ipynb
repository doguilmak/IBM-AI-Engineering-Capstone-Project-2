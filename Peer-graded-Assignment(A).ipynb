{
 "cells": [
  {
   "cell_type": "markdown",
   "id": "12441ca0-d16e-4c1f-b45c-cb84ade19731",
   "metadata": {},
   "source": [
    "## Assignment Topic:\n",
    "\n",
    "In this project, you will build a regression model using the Keras library to model the same data about concrete compressive strength that we used in labs 3.p In this course project, you will build a regression model using the deep learning Keras library, and then you will experiment with increasing the number of training epochs and changing number of hidden layers and you will see how changing these parameters impacts the performance of the model.\n",
    "\n",
    "### Increasing the Number of Training Epochs - 1"
   ]
  },
  {
   "cell_type": "markdown",
   "id": "6fb9f3f2",
   "metadata": {},
   "source": [
    "***"
   ]
  },
  {
   "cell_type": "markdown",
   "id": "19013627",
   "metadata": {},
   "source": [
    "## Data Preprocessing"
   ]
  },
  {
   "cell_type": "code",
   "execution_count": 1,
   "id": "16bc5007-ae3a-4326-af0f-3dac8a825993",
   "metadata": {},
   "outputs": [],
   "source": [
    "import pandas as pd\n",
    "import numpy as np"
   ]
  },
  {
   "cell_type": "code",
   "execution_count": 2,
   "id": "06850b57-3960-462d-85d1-be55cfc54d7e",
   "metadata": {},
   "outputs": [
    {
     "data": {
      "text/html": [
       "<div>\n",
       "<style scoped>\n",
       "    .dataframe tbody tr th:only-of-type {\n",
       "        vertical-align: middle;\n",
       "    }\n",
       "\n",
       "    .dataframe tbody tr th {\n",
       "        vertical-align: top;\n",
       "    }\n",
       "\n",
       "    .dataframe thead th {\n",
       "        text-align: right;\n",
       "    }\n",
       "</style>\n",
       "<table border=\"1\" class=\"dataframe\">\n",
       "  <thead>\n",
       "    <tr style=\"text-align: right;\">\n",
       "      <th></th>\n",
       "      <th>Cement</th>\n",
       "      <th>Blast Furnace Slag</th>\n",
       "      <th>Fly Ash</th>\n",
       "      <th>Water</th>\n",
       "      <th>Superplasticizer</th>\n",
       "      <th>Coarse Aggregate</th>\n",
       "      <th>Fine Aggregate</th>\n",
       "      <th>Age</th>\n",
       "      <th>Strength</th>\n",
       "    </tr>\n",
       "  </thead>\n",
       "  <tbody>\n",
       "    <tr>\n",
       "      <th>0</th>\n",
       "      <td>540.0</td>\n",
       "      <td>0.0</td>\n",
       "      <td>0.0</td>\n",
       "      <td>162.0</td>\n",
       "      <td>2.5</td>\n",
       "      <td>1040.0</td>\n",
       "      <td>676.0</td>\n",
       "      <td>28</td>\n",
       "      <td>79.99</td>\n",
       "    </tr>\n",
       "    <tr>\n",
       "      <th>1</th>\n",
       "      <td>540.0</td>\n",
       "      <td>0.0</td>\n",
       "      <td>0.0</td>\n",
       "      <td>162.0</td>\n",
       "      <td>2.5</td>\n",
       "      <td>1055.0</td>\n",
       "      <td>676.0</td>\n",
       "      <td>28</td>\n",
       "      <td>61.89</td>\n",
       "    </tr>\n",
       "    <tr>\n",
       "      <th>2</th>\n",
       "      <td>332.5</td>\n",
       "      <td>142.5</td>\n",
       "      <td>0.0</td>\n",
       "      <td>228.0</td>\n",
       "      <td>0.0</td>\n",
       "      <td>932.0</td>\n",
       "      <td>594.0</td>\n",
       "      <td>270</td>\n",
       "      <td>40.27</td>\n",
       "    </tr>\n",
       "    <tr>\n",
       "      <th>3</th>\n",
       "      <td>332.5</td>\n",
       "      <td>142.5</td>\n",
       "      <td>0.0</td>\n",
       "      <td>228.0</td>\n",
       "      <td>0.0</td>\n",
       "      <td>932.0</td>\n",
       "      <td>594.0</td>\n",
       "      <td>365</td>\n",
       "      <td>41.05</td>\n",
       "    </tr>\n",
       "    <tr>\n",
       "      <th>4</th>\n",
       "      <td>198.6</td>\n",
       "      <td>132.4</td>\n",
       "      <td>0.0</td>\n",
       "      <td>192.0</td>\n",
       "      <td>0.0</td>\n",
       "      <td>978.4</td>\n",
       "      <td>825.5</td>\n",
       "      <td>360</td>\n",
       "      <td>44.30</td>\n",
       "    </tr>\n",
       "  </tbody>\n",
       "</table>\n",
       "</div>"
      ],
      "text/plain": [
       "   Cement  Blast Furnace Slag  Fly Ash  Water  Superplasticizer  \\\n",
       "0   540.0                 0.0      0.0  162.0               2.5   \n",
       "1   540.0                 0.0      0.0  162.0               2.5   \n",
       "2   332.5               142.5      0.0  228.0               0.0   \n",
       "3   332.5               142.5      0.0  228.0               0.0   \n",
       "4   198.6               132.4      0.0  192.0               0.0   \n",
       "\n",
       "   Coarse Aggregate  Fine Aggregate  Age  Strength  \n",
       "0            1040.0           676.0   28     79.99  \n",
       "1            1055.0           676.0   28     61.89  \n",
       "2             932.0           594.0  270     40.27  \n",
       "3             932.0           594.0  365     41.05  \n",
       "4             978.4           825.5  360     44.30  "
      ]
     },
     "execution_count": 2,
     "metadata": {},
     "output_type": "execute_result"
    }
   ],
   "source": [
    "concrete_data = pd.read_csv('concrete_data.csv')\n",
    "concrete_data.head()"
   ]
  },
  {
   "cell_type": "markdown",
   "id": "5714fc96",
   "metadata": {},
   "source": [
    "So the first concrete sample has 540 cubic meter of cement, 0 cubic meter of blast furnace slag, 0 cubic meter of fly ash, 162 cubic meter of water, 2.5 cubic meter of superplaticizer, 1040 cubic meter of coarse aggregate, 676 cubic meter of fine aggregate. Such a concrete mix which is 28 days old, has a compressive strength of 79.99 MPa.\n",
    "\n",
    "Let's check how many data points we have."
   ]
  },
  {
   "cell_type": "code",
   "execution_count": 3,
   "id": "42e038d5-d998-4a95-b281-4433315f56ed",
   "metadata": {},
   "outputs": [
    {
     "data": {
      "text/plain": [
       "(1030, 9)"
      ]
     },
     "execution_count": 3,
     "metadata": {},
     "output_type": "execute_result"
    }
   ],
   "source": [
    "concrete_data.shape"
   ]
  },
  {
   "cell_type": "markdown",
   "id": "94a78d80",
   "metadata": {},
   "source": [
    "(1030, 9)\n",
    "So, there are approximately 1000 samples to train our model on. Because of the few samples, we have to be careful not to overfit the training data.\n",
    "\n",
    "Let's check the dataset for any missing values."
   ]
  },
  {
   "cell_type": "code",
   "execution_count": 4,
   "id": "74c56107-a4e7-4e25-a9f2-ca3053390672",
   "metadata": {},
   "outputs": [
    {
     "data": {
      "text/html": [
       "<div>\n",
       "<style scoped>\n",
       "    .dataframe tbody tr th:only-of-type {\n",
       "        vertical-align: middle;\n",
       "    }\n",
       "\n",
       "    .dataframe tbody tr th {\n",
       "        vertical-align: top;\n",
       "    }\n",
       "\n",
       "    .dataframe thead th {\n",
       "        text-align: right;\n",
       "    }\n",
       "</style>\n",
       "<table border=\"1\" class=\"dataframe\">\n",
       "  <thead>\n",
       "    <tr style=\"text-align: right;\">\n",
       "      <th></th>\n",
       "      <th>Cement</th>\n",
       "      <th>Blast Furnace Slag</th>\n",
       "      <th>Fly Ash</th>\n",
       "      <th>Water</th>\n",
       "      <th>Superplasticizer</th>\n",
       "      <th>Coarse Aggregate</th>\n",
       "      <th>Fine Aggregate</th>\n",
       "      <th>Age</th>\n",
       "      <th>Strength</th>\n",
       "    </tr>\n",
       "  </thead>\n",
       "  <tbody>\n",
       "    <tr>\n",
       "      <th>count</th>\n",
       "      <td>1030.000000</td>\n",
       "      <td>1030.000000</td>\n",
       "      <td>1030.000000</td>\n",
       "      <td>1030.000000</td>\n",
       "      <td>1030.000000</td>\n",
       "      <td>1030.000000</td>\n",
       "      <td>1030.000000</td>\n",
       "      <td>1030.000000</td>\n",
       "      <td>1030.000000</td>\n",
       "    </tr>\n",
       "    <tr>\n",
       "      <th>mean</th>\n",
       "      <td>281.167864</td>\n",
       "      <td>73.895825</td>\n",
       "      <td>54.188350</td>\n",
       "      <td>181.567282</td>\n",
       "      <td>6.204660</td>\n",
       "      <td>972.918932</td>\n",
       "      <td>773.580485</td>\n",
       "      <td>45.662136</td>\n",
       "      <td>35.817961</td>\n",
       "    </tr>\n",
       "    <tr>\n",
       "      <th>std</th>\n",
       "      <td>104.506364</td>\n",
       "      <td>86.279342</td>\n",
       "      <td>63.997004</td>\n",
       "      <td>21.354219</td>\n",
       "      <td>5.973841</td>\n",
       "      <td>77.753954</td>\n",
       "      <td>80.175980</td>\n",
       "      <td>63.169912</td>\n",
       "      <td>16.705742</td>\n",
       "    </tr>\n",
       "    <tr>\n",
       "      <th>min</th>\n",
       "      <td>102.000000</td>\n",
       "      <td>0.000000</td>\n",
       "      <td>0.000000</td>\n",
       "      <td>121.800000</td>\n",
       "      <td>0.000000</td>\n",
       "      <td>801.000000</td>\n",
       "      <td>594.000000</td>\n",
       "      <td>1.000000</td>\n",
       "      <td>2.330000</td>\n",
       "    </tr>\n",
       "    <tr>\n",
       "      <th>25%</th>\n",
       "      <td>192.375000</td>\n",
       "      <td>0.000000</td>\n",
       "      <td>0.000000</td>\n",
       "      <td>164.900000</td>\n",
       "      <td>0.000000</td>\n",
       "      <td>932.000000</td>\n",
       "      <td>730.950000</td>\n",
       "      <td>7.000000</td>\n",
       "      <td>23.710000</td>\n",
       "    </tr>\n",
       "    <tr>\n",
       "      <th>50%</th>\n",
       "      <td>272.900000</td>\n",
       "      <td>22.000000</td>\n",
       "      <td>0.000000</td>\n",
       "      <td>185.000000</td>\n",
       "      <td>6.400000</td>\n",
       "      <td>968.000000</td>\n",
       "      <td>779.500000</td>\n",
       "      <td>28.000000</td>\n",
       "      <td>34.445000</td>\n",
       "    </tr>\n",
       "    <tr>\n",
       "      <th>75%</th>\n",
       "      <td>350.000000</td>\n",
       "      <td>142.950000</td>\n",
       "      <td>118.300000</td>\n",
       "      <td>192.000000</td>\n",
       "      <td>10.200000</td>\n",
       "      <td>1029.400000</td>\n",
       "      <td>824.000000</td>\n",
       "      <td>56.000000</td>\n",
       "      <td>46.135000</td>\n",
       "    </tr>\n",
       "    <tr>\n",
       "      <th>max</th>\n",
       "      <td>540.000000</td>\n",
       "      <td>359.400000</td>\n",
       "      <td>200.100000</td>\n",
       "      <td>247.000000</td>\n",
       "      <td>32.200000</td>\n",
       "      <td>1145.000000</td>\n",
       "      <td>992.600000</td>\n",
       "      <td>365.000000</td>\n",
       "      <td>82.600000</td>\n",
       "    </tr>\n",
       "  </tbody>\n",
       "</table>\n",
       "</div>"
      ],
      "text/plain": [
       "            Cement  Blast Furnace Slag      Fly Ash        Water  \\\n",
       "count  1030.000000         1030.000000  1030.000000  1030.000000   \n",
       "mean    281.167864           73.895825    54.188350   181.567282   \n",
       "std     104.506364           86.279342    63.997004    21.354219   \n",
       "min     102.000000            0.000000     0.000000   121.800000   \n",
       "25%     192.375000            0.000000     0.000000   164.900000   \n",
       "50%     272.900000           22.000000     0.000000   185.000000   \n",
       "75%     350.000000          142.950000   118.300000   192.000000   \n",
       "max     540.000000          359.400000   200.100000   247.000000   \n",
       "\n",
       "       Superplasticizer  Coarse Aggregate  Fine Aggregate          Age  \\\n",
       "count       1030.000000       1030.000000     1030.000000  1030.000000   \n",
       "mean           6.204660        972.918932      773.580485    45.662136   \n",
       "std            5.973841         77.753954       80.175980    63.169912   \n",
       "min            0.000000        801.000000      594.000000     1.000000   \n",
       "25%            0.000000        932.000000      730.950000     7.000000   \n",
       "50%            6.400000        968.000000      779.500000    28.000000   \n",
       "75%           10.200000       1029.400000      824.000000    56.000000   \n",
       "max           32.200000       1145.000000      992.600000   365.000000   \n",
       "\n",
       "          Strength  \n",
       "count  1030.000000  \n",
       "mean     35.817961  \n",
       "std      16.705742  \n",
       "min       2.330000  \n",
       "25%      23.710000  \n",
       "50%      34.445000  \n",
       "75%      46.135000  \n",
       "max      82.600000  "
      ]
     },
     "execution_count": 4,
     "metadata": {},
     "output_type": "execute_result"
    }
   ],
   "source": [
    "concrete_data.describe()"
   ]
  },
  {
   "cell_type": "code",
   "execution_count": 5,
   "id": "4193f683-2f9c-47b8-b797-da8241f8524c",
   "metadata": {},
   "outputs": [
    {
     "data": {
      "text/plain": [
       "Cement                0\n",
       "Blast Furnace Slag    0\n",
       "Fly Ash               0\n",
       "Water                 0\n",
       "Superplasticizer      0\n",
       "Coarse Aggregate      0\n",
       "Fine Aggregate        0\n",
       "Age                   0\n",
       "Strength              0\n",
       "dtype: int64"
      ]
     },
     "execution_count": 5,
     "metadata": {},
     "output_type": "execute_result"
    }
   ],
   "source": [
    "concrete_data.isnull().sum()"
   ]
  },
  {
   "cell_type": "markdown",
   "id": "f8d1b87f-5e7a-4990-9c45-58004e24abfe",
   "metadata": {
    "tags": []
   },
   "source": [
    "The data looks very clean and is ready to be used to build our model."
   ]
  },
  {
   "cell_type": "code",
   "execution_count": 6,
   "id": "3245b7e2-3392-44bd-a86c-2146723dd684",
   "metadata": {},
   "outputs": [],
   "source": [
    "concrete_data_columns = concrete_data.columns\n",
    "\n",
    "target = concrete_data[\"Strength\"]\n",
    "predictors = concrete_data.drop([\"Strength\", \"Age\"], axis=1)"
   ]
  },
  {
   "cell_type": "markdown",
   "id": "d56ff165",
   "metadata": {},
   "source": [
    "Let's do a quick sanity check of the predictors and the target dataframes."
   ]
  },
  {
   "cell_type": "code",
   "execution_count": 7,
   "id": "281d09c1-32c8-43df-8deb-68b46ae069de",
   "metadata": {},
   "outputs": [
    {
     "data": {
      "text/html": [
       "<div>\n",
       "<style scoped>\n",
       "    .dataframe tbody tr th:only-of-type {\n",
       "        vertical-align: middle;\n",
       "    }\n",
       "\n",
       "    .dataframe tbody tr th {\n",
       "        vertical-align: top;\n",
       "    }\n",
       "\n",
       "    .dataframe thead th {\n",
       "        text-align: right;\n",
       "    }\n",
       "</style>\n",
       "<table border=\"1\" class=\"dataframe\">\n",
       "  <thead>\n",
       "    <tr style=\"text-align: right;\">\n",
       "      <th></th>\n",
       "      <th>Cement</th>\n",
       "      <th>Blast Furnace Slag</th>\n",
       "      <th>Fly Ash</th>\n",
       "      <th>Water</th>\n",
       "      <th>Superplasticizer</th>\n",
       "      <th>Coarse Aggregate</th>\n",
       "      <th>Fine Aggregate</th>\n",
       "    </tr>\n",
       "  </thead>\n",
       "  <tbody>\n",
       "    <tr>\n",
       "      <th>0</th>\n",
       "      <td>540.0</td>\n",
       "      <td>0.0</td>\n",
       "      <td>0.0</td>\n",
       "      <td>162.0</td>\n",
       "      <td>2.5</td>\n",
       "      <td>1040.0</td>\n",
       "      <td>676.0</td>\n",
       "    </tr>\n",
       "    <tr>\n",
       "      <th>1</th>\n",
       "      <td>540.0</td>\n",
       "      <td>0.0</td>\n",
       "      <td>0.0</td>\n",
       "      <td>162.0</td>\n",
       "      <td>2.5</td>\n",
       "      <td>1055.0</td>\n",
       "      <td>676.0</td>\n",
       "    </tr>\n",
       "    <tr>\n",
       "      <th>2</th>\n",
       "      <td>332.5</td>\n",
       "      <td>142.5</td>\n",
       "      <td>0.0</td>\n",
       "      <td>228.0</td>\n",
       "      <td>0.0</td>\n",
       "      <td>932.0</td>\n",
       "      <td>594.0</td>\n",
       "    </tr>\n",
       "    <tr>\n",
       "      <th>3</th>\n",
       "      <td>332.5</td>\n",
       "      <td>142.5</td>\n",
       "      <td>0.0</td>\n",
       "      <td>228.0</td>\n",
       "      <td>0.0</td>\n",
       "      <td>932.0</td>\n",
       "      <td>594.0</td>\n",
       "    </tr>\n",
       "    <tr>\n",
       "      <th>4</th>\n",
       "      <td>198.6</td>\n",
       "      <td>132.4</td>\n",
       "      <td>0.0</td>\n",
       "      <td>192.0</td>\n",
       "      <td>0.0</td>\n",
       "      <td>978.4</td>\n",
       "      <td>825.5</td>\n",
       "    </tr>\n",
       "  </tbody>\n",
       "</table>\n",
       "</div>"
      ],
      "text/plain": [
       "   Cement  Blast Furnace Slag  Fly Ash  Water  Superplasticizer  \\\n",
       "0   540.0                 0.0      0.0  162.0               2.5   \n",
       "1   540.0                 0.0      0.0  162.0               2.5   \n",
       "2   332.5               142.5      0.0  228.0               0.0   \n",
       "3   332.5               142.5      0.0  228.0               0.0   \n",
       "4   198.6               132.4      0.0  192.0               0.0   \n",
       "\n",
       "   Coarse Aggregate  Fine Aggregate  \n",
       "0            1040.0           676.0  \n",
       "1            1055.0           676.0  \n",
       "2             932.0           594.0  \n",
       "3             932.0           594.0  \n",
       "4             978.4           825.5  "
      ]
     },
     "execution_count": 7,
     "metadata": {},
     "output_type": "execute_result"
    }
   ],
   "source": [
    "predictors.head()"
   ]
  },
  {
   "cell_type": "code",
   "execution_count": 8,
   "id": "869bb6cc-a513-4905-8b9d-1905ef74d43b",
   "metadata": {},
   "outputs": [
    {
     "data": {
      "text/plain": [
       "0    79.99\n",
       "1    61.89\n",
       "2    40.27\n",
       "3    41.05\n",
       "4    44.30\n",
       "Name: Strength, dtype: float64"
      ]
     },
     "execution_count": 8,
     "metadata": {},
     "output_type": "execute_result"
    }
   ],
   "source": [
    "target.head()"
   ]
  },
  {
   "cell_type": "code",
   "execution_count": 9,
   "id": "b4166a4d-d86e-4798-9285-4496e156d079",
   "metadata": {},
   "outputs": [
    {
     "data": {
      "text/plain": [
       "7"
      ]
     },
     "execution_count": 9,
     "metadata": {},
     "output_type": "execute_result"
    }
   ],
   "source": [
    "n_cols = predictors.shape[1]  # number of predictors\n",
    "n_cols"
   ]
  },
  {
   "cell_type": "markdown",
   "id": "e316b9bc",
   "metadata": {},
   "source": [
    "***"
   ]
  },
  {
   "cell_type": "markdown",
   "id": "c6f3164a",
   "metadata": {},
   "source": [
    "## Keras\n",
    "\n",
    "Recall from the videos that Keras normally runs on top of a low-level library such as TensorFlow. This means that to be able to use the Keras library, you will have to install TensorFlow first and when you import the Keras library, it will be explicitly displayed what backend was used to install the Keras library. In CC Labs, we used TensorFlow as the backend to install Keras, so it should clearly print that when we import Keras."
   ]
  },
  {
   "cell_type": "code",
   "execution_count": 10,
   "id": "369a4d20-3318-486c-841a-6036b877e9d8",
   "metadata": {},
   "outputs": [],
   "source": [
    "import warnings\n",
    "warnings.filterwarnings(\"ignore\")\n",
    "import keras"
   ]
  },
  {
   "cell_type": "code",
   "execution_count": 11,
   "id": "f66eb622-09a3-4625-b491-4d7f16659d2e",
   "metadata": {},
   "outputs": [],
   "source": [
    "from keras.models import Sequential\n",
    "from keras.layers import Dense"
   ]
  },
  {
   "cell_type": "markdown",
   "id": "f42cf42c",
   "metadata": {},
   "source": [
    "## Build a Neural Network\n",
    "\n",
    "Let's define a function that defines our regression model for us so that we can conveniently call it to create our model.\n"
   ]
  },
  {
   "cell_type": "code",
   "execution_count": 12,
   "id": "c5628e95-e609-451f-943e-1145d51ccb38",
   "metadata": {},
   "outputs": [],
   "source": [
    "# define regression model\n",
    "def regression_model():\n",
    "    # 1-Create model\n",
    "    model = Sequential()\n",
    "    model.add(Dense(10, activation='relu', input_shape=(n_cols,)))\n",
    "    model.add(Dense(1))\n",
    "    \n",
    "    # 2-Compile model\n",
    "    model.compile(optimizer='adam', loss='mean_squared_error')\n",
    "    return model"
   ]
  },
  {
   "cell_type": "code",
   "execution_count": 13,
   "id": "8d40b0be-211a-40b4-a0f2-81921571eb70",
   "metadata": {},
   "outputs": [],
   "source": [
    "from sklearn.model_selection import train_test_split"
   ]
  },
  {
   "cell_type": "code",
   "execution_count": 14,
   "id": "9aae7026-a466-42ec-8dce-55922fcddd30",
   "metadata": {},
   "outputs": [],
   "source": [
    "X_train, X_test, y_train, y_test = train_test_split(predictors, target, test_size=0.3, random_state=42)"
   ]
  },
  {
   "cell_type": "code",
   "execution_count": 15,
   "id": "99d9aa01-f42c-423f-b455-842b26c6b602",
   "metadata": {},
   "outputs": [],
   "source": [
    "model = regression_model()"
   ]
  },
  {
   "cell_type": "code",
   "execution_count": 16,
   "id": "d7fbe62c-9cd3-4c02-b79b-795193062f9b",
   "metadata": {},
   "outputs": [
    {
     "name": "stdout",
     "output_type": "stream",
     "text": [
      "Epoch 1/50\n",
      "23/23 [==============================] - 0s 1ms/step - loss: 35796.7812\n",
      "Epoch 2/50\n",
      "23/23 [==============================] - 0s 1ms/step - loss: 3825.9722\n",
      "Epoch 3/50\n",
      "23/23 [==============================] - 0s 1ms/step - loss: 2109.3633\n",
      "Epoch 4/50\n",
      "23/23 [==============================] - 0s 1ms/step - loss: 1819.7627\n",
      "Epoch 5/50\n",
      "23/23 [==============================] - 0s 1ms/step - loss: 1658.7909\n",
      "Epoch 6/50\n",
      "23/23 [==============================] - 0s 1ms/step - loss: 1515.5475\n",
      "Epoch 7/50\n",
      "23/23 [==============================] - ETA: 0s - loss: 1303.57 - 0s 1ms/step - loss: 1379.6964\n",
      "Epoch 8/50\n",
      "23/23 [==============================] - 0s 1ms/step - loss: 1264.0312\n",
      "Epoch 9/50\n",
      "23/23 [==============================] - 0s 1ms/step - loss: 1162.1804\n",
      "Epoch 10/50\n",
      "23/23 [==============================] - 0s 1ms/step - loss: 1071.5012\n",
      "Epoch 11/50\n",
      "23/23 [==============================] - 0s 1ms/step - loss: 987.5058\n",
      "Epoch 12/50\n",
      "23/23 [==============================] - 0s 1ms/step - loss: 907.6336\n",
      "Epoch 13/50\n",
      "23/23 [==============================] - 0s 2ms/step - loss: 813.8347\n",
      "Epoch 14/50\n",
      "23/23 [==============================] - 0s 2ms/step - loss: 728.0906\n",
      "Epoch 15/50\n",
      "23/23 [==============================] - 0s 1ms/step - loss: 635.8926\n",
      "Epoch 16/50\n",
      "23/23 [==============================] - 0s 1ms/step - loss: 579.5074\n",
      "Epoch 17/50\n",
      "23/23 [==============================] - 0s 1ms/step - loss: 532.7880\n",
      "Epoch 18/50\n",
      "23/23 [==============================] - 0s 1ms/step - loss: 496.0557\n",
      "Epoch 19/50\n",
      "23/23 [==============================] - 0s 960us/step - loss: 465.8969\n",
      "Epoch 20/50\n",
      "23/23 [==============================] - 0s 962us/step - loss: 441.7873\n",
      "Epoch 21/50\n",
      "23/23 [==============================] - 0s 953us/step - loss: 414.8701\n",
      "Epoch 22/50\n",
      "23/23 [==============================] - 0s 929us/step - loss: 398.8681\n",
      "Epoch 23/50\n",
      "23/23 [==============================] - 0s 952us/step - loss: 382.5040\n",
      "Epoch 24/50\n",
      "23/23 [==============================] - 0s 940us/step - loss: 368.1815\n",
      "Epoch 25/50\n",
      "23/23 [==============================] - 0s 1ms/step - loss: 350.4179\n",
      "Epoch 26/50\n",
      "23/23 [==============================] - 0s 1ms/step - loss: 338.5504\n",
      "Epoch 27/50\n",
      "23/23 [==============================] - 0s 1ms/step - loss: 322.7304\n",
      "Epoch 28/50\n",
      "23/23 [==============================] - 0s 1ms/step - loss: 327.0570\n",
      "Epoch 29/50\n",
      "23/23 [==============================] - 0s 1ms/step - loss: 307.3513\n",
      "Epoch 30/50\n",
      "23/23 [==============================] - 0s 1ms/step - loss: 302.5734\n",
      "Epoch 31/50\n",
      "23/23 [==============================] - 0s 1ms/step - loss: 292.5258\n",
      "Epoch 32/50\n",
      "23/23 [==============================] - 0s 1ms/step - loss: 281.7758\n",
      "Epoch 33/50\n",
      "23/23 [==============================] - 0s 1ms/step - loss: 275.6591\n",
      "Epoch 34/50\n",
      "23/23 [==============================] - 0s 1ms/step - loss: 271.2894\n",
      "Epoch 35/50\n",
      "23/23 [==============================] - 0s 1ms/step - loss: 265.9298\n",
      "Epoch 36/50\n",
      "23/23 [==============================] - 0s 954us/step - loss: 258.3587\n",
      "Epoch 37/50\n",
      "23/23 [==============================] - 0s 952us/step - loss: 259.9688\n",
      "Epoch 38/50\n",
      "23/23 [==============================] - 0s 874us/step - loss: 248.7550\n",
      "Epoch 39/50\n",
      "23/23 [==============================] - 0s 972us/step - loss: 242.2551\n",
      "Epoch 40/50\n",
      "23/23 [==============================] - 0s 980us/step - loss: 238.2659\n",
      "Epoch 41/50\n",
      "23/23 [==============================] - 0s 957us/step - loss: 235.4049\n",
      "Epoch 42/50\n",
      "23/23 [==============================] - 0s 944us/step - loss: 231.1887\n",
      "Epoch 43/50\n",
      "23/23 [==============================] - 0s 948us/step - loss: 229.9793\n",
      "Epoch 44/50\n",
      "23/23 [==============================] - 0s 933us/step - loss: 223.1868\n",
      "Epoch 45/50\n",
      "23/23 [==============================] - 0s 938us/step - loss: 221.0901\n",
      "Epoch 46/50\n",
      "23/23 [==============================] - 0s 916us/step - loss: 217.7857\n",
      "Epoch 47/50\n",
      "23/23 [==============================] - 0s 978us/step - loss: 215.3402\n",
      "Epoch 48/50\n",
      "23/23 [==============================] - 0s 953us/step - loss: 212.5108\n",
      "Epoch 49/50\n",
      "23/23 [==============================] - 0s 1ms/step - loss: 216.7806\n",
      "Epoch 50/50\n",
      "23/23 [==============================] - 0s 977us/step - loss: 208.1445\n"
     ]
    },
    {
     "data": {
      "text/plain": [
       "<keras.callbacks.History at 0x25f72cf5d00>"
      ]
     },
     "execution_count": 16,
     "metadata": {},
     "output_type": "execute_result"
    }
   ],
   "source": [
    "epochs = 50\n",
    "model.fit(X_train, y_train, epochs=epochs, verbose=1)"
   ]
  },
  {
   "cell_type": "code",
   "execution_count": 17,
   "id": "0d30c599-49a6-416a-9984-0b0c9a42c131",
   "metadata": {},
   "outputs": [
    {
     "name": "stdout",
     "output_type": "stream",
     "text": [
      "10/10 [==============================] - 0s 1ms/step - loss: 209.9489\n"
     ]
    },
    {
     "data": {
      "text/plain": [
       "209.94891357421875"
      ]
     },
     "execution_count": 17,
     "metadata": {},
     "output_type": "execute_result"
    }
   ],
   "source": [
    "loss_val = model.evaluate(X_test, y_test)\n",
    "y_pred = model.predict(X_test)\n",
    "loss_val"
   ]
  },
  {
   "cell_type": "markdown",
   "id": "1afc0f85",
   "metadata": {},
   "source": [
    "***"
   ]
  },
  {
   "cell_type": "markdown",
   "id": "7a2bdbf7",
   "metadata": {},
   "source": [
    "### Mean Squared Error"
   ]
  },
  {
   "cell_type": "code",
   "execution_count": 18,
   "id": "64a983f8-3642-4098-aeef-b1686f9b8e6d",
   "metadata": {},
   "outputs": [],
   "source": [
    "from sklearn.metrics import mean_squared_error"
   ]
  },
  {
   "cell_type": "code",
   "execution_count": 19,
   "id": "bc9d4779-f740-48ac-ae15-6d375f86cb3c",
   "metadata": {},
   "outputs": [
    {
     "name": "stdout",
     "output_type": "stream",
     "text": [
      "Mean: 209.94884723139054\n",
      "Standard Deviation: 0.0\n"
     ]
    }
   ],
   "source": [
    "mean_square_error = mean_squared_error(y_test, y_pred)\n",
    "mean = np.mean(mean_square_error)\n",
    "standard_deviation = np.std(mean_square_error)\n",
    "print(f\"Mean: {mean}\\nStandard Deviation: {standard_deviation}\")"
   ]
  },
  {
   "cell_type": "code",
   "execution_count": 20,
   "id": "87c86cce-2e4c-4e9e-9007-404c8c586a63",
   "metadata": {},
   "outputs": [
    {
     "name": "stdout",
     "output_type": "stream",
     "text": [
      "Mean Squared Error 1: 145.70469665527344\n",
      "Mean Squared Error 2: 162.13851928710938\n",
      "Mean Squared Error 3: 161.61927795410156\n",
      "Mean Squared Error 4: 182.33250427246094\n",
      "Mean Squared Error 5: 187.95611572265625\n",
      "Mean Squared Error 6: 144.21839904785156\n",
      "Mean Squared Error 7: 177.0404815673828\n",
      "Mean Squared Error 8: 147.49649047851562\n",
      "Mean Squared Error 9: 165.19564819335938\n",
      "Mean Squared Error 10: 168.08824157714844\n",
      "Mean Squared Error 11: 149.23150634765625\n",
      "Mean Squared Error 12: 144.75350952148438\n",
      "Mean Squared Error 13: 152.49227905273438\n",
      "Mean Squared Error 14: 162.74130249023438\n",
      "Mean Squared Error 15: 143.84278869628906\n",
      "Mean Squared Error 16: 130.99237060546875\n",
      "Mean Squared Error 17: 144.0279083251953\n",
      "Mean Squared Error 18: 124.18257904052734\n",
      "Mean Squared Error 19: 136.48153686523438\n",
      "Mean Squared Error 20: 159.81234741210938\n",
      "Mean Squared Error 21: 132.2904510498047\n",
      "Mean Squared Error 22: 155.61734008789062\n",
      "Mean Squared Error 23: 145.3447723388672\n",
      "Mean Squared Error 24: 139.26971435546875\n",
      "Mean Squared Error 25: 130.7212371826172\n",
      "Mean Squared Error 26: 139.66490173339844\n",
      "Mean Squared Error 27: 163.8251190185547\n",
      "Mean Squared Error 28: 143.3976593017578\n",
      "Mean Squared Error 29: 154.3397674560547\n",
      "Mean Squared Error 30: 142.69549560546875\n",
      "Mean Squared Error 31: 139.57794189453125\n",
      "Mean Squared Error 32: 152.14419555664062\n",
      "Mean Squared Error 33: 172.4378662109375\n",
      "Mean Squared Error 34: 147.74037170410156\n",
      "Mean Squared Error 35: 152.37344360351562\n",
      "Mean Squared Error 36: 229.02671813964844\n",
      "Mean Squared Error 37: 154.4447479248047\n",
      "Mean Squared Error 38: 148.46136474609375\n",
      "Mean Squared Error 39: 156.56289672851562\n",
      "Mean Squared Error 40: 134.8045196533203\n",
      "Mean Squared Error 41: 139.5569610595703\n",
      "Mean Squared Error 42: 141.02200317382812\n",
      "Mean Squared Error 43: 151.4124298095703\n",
      "Mean Squared Error 44: 153.6381072998047\n",
      "Mean Squared Error 45: 144.46609497070312\n",
      "Mean Squared Error 46: 140.49325561523438\n",
      "Mean Squared Error 47: 148.28955078125\n",
      "Mean Squared Error 48: 185.11610412597656\n",
      "Mean Squared Error 49: 149.9702911376953\n",
      "Mean Squared Error 50: 147.84397888183594\n",
      "\n",
      "50 mean squared errors without normalized data. Total number of epochs for each training is: 50\n",
      "\n",
      "Mean: 152.53794686104195\n",
      "Standard Deviation: 17.534885032267805\n"
     ]
    }
   ],
   "source": [
    "total_mean_squared_errors = 50\n",
    "epochs = 50\n",
    "mean_squared_errors = []\n",
    "for i in range(0, total_mean_squared_errors):\n",
    "    X_train, X_test, y_train, y_test = train_test_split(predictors, target, test_size=0.3, random_state=i)\n",
    "    model.fit(X_train, y_train, epochs=epochs, verbose=0)\n",
    "    MSE = model.evaluate(X_test, y_test, verbose=0)\n",
    "    print(\"Mean Squared Error \" + str(i + 1) +\": \"+ str(MSE))\n",
    "    y_pred = model.predict(X_test)\n",
    "    mean_square_error = mean_squared_error(y_test, y_pred)\n",
    "    mean_squared_errors.append(mean_square_error)\n",
    "\n",
    "mean_squared_errors = np.array(mean_squared_errors)\n",
    "mean = np.mean(mean_squared_errors)\n",
    "standard_deviation = np.std(mean_squared_errors)\n",
    "\n",
    "print(\"\\n\" + str(total_mean_squared_errors) + \" mean squared errors without normalized data. Total number of epochs for each training is: \" + str(epochs) + \"\\n\")\n",
    "print(\"Mean: \"+ str(mean))\n",
    "print(\"Standard Deviation: \"+ str(standard_deviation))"
   ]
  },
  {
   "cell_type": "code",
   "execution_count": null,
   "id": "aae42bd0",
   "metadata": {},
   "outputs": [],
   "source": []
  }
 ],
 "metadata": {
  "kernelspec": {
   "display_name": "Python 3 (ipykernel)",
   "language": "python",
   "name": "python3"
  },
  "language_info": {
   "codemirror_mode": {
    "name": "ipython",
    "version": 3
   },
   "file_extension": ".py",
   "mimetype": "text/x-python",
   "name": "python",
   "nbconvert_exporter": "python",
   "pygments_lexer": "ipython3",
   "version": "3.9.7"
  }
 },
 "nbformat": 4,
 "nbformat_minor": 5
}
