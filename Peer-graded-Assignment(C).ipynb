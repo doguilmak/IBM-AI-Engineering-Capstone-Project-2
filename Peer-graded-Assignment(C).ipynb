{
 "cells": [
  {
   "cell_type": "markdown",
   "id": "12441ca0-d16e-4c1f-b45c-cb84ade19731",
   "metadata": {},
   "source": [
    "## Assignment Topic:\n",
    "\n",
    "In this project, you will build a regression model using the Keras library to model the same data about concrete compressive strength that we used in labs 3.p In this course project, you will build a regression model using the deep learning Keras library, and then you will experiment with increasing the number of training epochs and changing number of hidden layers and you will see how changing these parameters impacts the performance of the model.\n",
    "\n",
    "### Changing Number of Hidden Layers - 1"
   ]
  },
  {
   "cell_type": "markdown",
   "id": "6fb9f3f2",
   "metadata": {},
   "source": [
    "***"
   ]
  },
  {
   "cell_type": "markdown",
   "id": "19013627",
   "metadata": {},
   "source": [
    "## Data Preprocessing"
   ]
  },
  {
   "cell_type": "code",
   "execution_count": 1,
   "id": "16bc5007-ae3a-4326-af0f-3dac8a825993",
   "metadata": {},
   "outputs": [],
   "source": [
    "import pandas as pd\n",
    "import numpy as np"
   ]
  },
  {
   "cell_type": "code",
   "execution_count": 2,
   "id": "06850b57-3960-462d-85d1-be55cfc54d7e",
   "metadata": {},
   "outputs": [
    {
     "data": {
      "text/html": [
       "<div>\n",
       "<style scoped>\n",
       "    .dataframe tbody tr th:only-of-type {\n",
       "        vertical-align: middle;\n",
       "    }\n",
       "\n",
       "    .dataframe tbody tr th {\n",
       "        vertical-align: top;\n",
       "    }\n",
       "\n",
       "    .dataframe thead th {\n",
       "        text-align: right;\n",
       "    }\n",
       "</style>\n",
       "<table border=\"1\" class=\"dataframe\">\n",
       "  <thead>\n",
       "    <tr style=\"text-align: right;\">\n",
       "      <th></th>\n",
       "      <th>Cement</th>\n",
       "      <th>Blast Furnace Slag</th>\n",
       "      <th>Fly Ash</th>\n",
       "      <th>Water</th>\n",
       "      <th>Superplasticizer</th>\n",
       "      <th>Coarse Aggregate</th>\n",
       "      <th>Fine Aggregate</th>\n",
       "      <th>Age</th>\n",
       "      <th>Strength</th>\n",
       "    </tr>\n",
       "  </thead>\n",
       "  <tbody>\n",
       "    <tr>\n",
       "      <th>0</th>\n",
       "      <td>540.0</td>\n",
       "      <td>0.0</td>\n",
       "      <td>0.0</td>\n",
       "      <td>162.0</td>\n",
       "      <td>2.5</td>\n",
       "      <td>1040.0</td>\n",
       "      <td>676.0</td>\n",
       "      <td>28</td>\n",
       "      <td>79.99</td>\n",
       "    </tr>\n",
       "    <tr>\n",
       "      <th>1</th>\n",
       "      <td>540.0</td>\n",
       "      <td>0.0</td>\n",
       "      <td>0.0</td>\n",
       "      <td>162.0</td>\n",
       "      <td>2.5</td>\n",
       "      <td>1055.0</td>\n",
       "      <td>676.0</td>\n",
       "      <td>28</td>\n",
       "      <td>61.89</td>\n",
       "    </tr>\n",
       "    <tr>\n",
       "      <th>2</th>\n",
       "      <td>332.5</td>\n",
       "      <td>142.5</td>\n",
       "      <td>0.0</td>\n",
       "      <td>228.0</td>\n",
       "      <td>0.0</td>\n",
       "      <td>932.0</td>\n",
       "      <td>594.0</td>\n",
       "      <td>270</td>\n",
       "      <td>40.27</td>\n",
       "    </tr>\n",
       "    <tr>\n",
       "      <th>3</th>\n",
       "      <td>332.5</td>\n",
       "      <td>142.5</td>\n",
       "      <td>0.0</td>\n",
       "      <td>228.0</td>\n",
       "      <td>0.0</td>\n",
       "      <td>932.0</td>\n",
       "      <td>594.0</td>\n",
       "      <td>365</td>\n",
       "      <td>41.05</td>\n",
       "    </tr>\n",
       "    <tr>\n",
       "      <th>4</th>\n",
       "      <td>198.6</td>\n",
       "      <td>132.4</td>\n",
       "      <td>0.0</td>\n",
       "      <td>192.0</td>\n",
       "      <td>0.0</td>\n",
       "      <td>978.4</td>\n",
       "      <td>825.5</td>\n",
       "      <td>360</td>\n",
       "      <td>44.30</td>\n",
       "    </tr>\n",
       "  </tbody>\n",
       "</table>\n",
       "</div>"
      ],
      "text/plain": [
       "   Cement  Blast Furnace Slag  Fly Ash  Water  Superplasticizer  \\\n",
       "0   540.0                 0.0      0.0  162.0               2.5   \n",
       "1   540.0                 0.0      0.0  162.0               2.5   \n",
       "2   332.5               142.5      0.0  228.0               0.0   \n",
       "3   332.5               142.5      0.0  228.0               0.0   \n",
       "4   198.6               132.4      0.0  192.0               0.0   \n",
       "\n",
       "   Coarse Aggregate  Fine Aggregate  Age  Strength  \n",
       "0            1040.0           676.0   28     79.99  \n",
       "1            1055.0           676.0   28     61.89  \n",
       "2             932.0           594.0  270     40.27  \n",
       "3             932.0           594.0  365     41.05  \n",
       "4             978.4           825.5  360     44.30  "
      ]
     },
     "execution_count": 2,
     "metadata": {},
     "output_type": "execute_result"
    }
   ],
   "source": [
    "concrete_data = pd.read_csv('concrete_data.csv')\n",
    "concrete_data.head()"
   ]
  },
  {
   "cell_type": "markdown",
   "id": "5714fc96",
   "metadata": {},
   "source": [
    "So the first concrete sample has 540 cubic meter of cement, 0 cubic meter of blast furnace slag, 0 cubic meter of fly ash, 162 cubic meter of water, 2.5 cubic meter of superplaticizer, 1040 cubic meter of coarse aggregate, 676 cubic meter of fine aggregate. Such a concrete mix which is 28 days old, has a compressive strength of 79.99 MPa.\n",
    "\n",
    "Let's check how many data points we have."
   ]
  },
  {
   "cell_type": "code",
   "execution_count": 3,
   "id": "42e038d5-d998-4a95-b281-4433315f56ed",
   "metadata": {},
   "outputs": [
    {
     "data": {
      "text/plain": [
       "(1030, 9)"
      ]
     },
     "execution_count": 3,
     "metadata": {},
     "output_type": "execute_result"
    }
   ],
   "source": [
    "concrete_data.shape"
   ]
  },
  {
   "cell_type": "markdown",
   "id": "94a78d80",
   "metadata": {},
   "source": [
    "(1030, 9)\n",
    "So, there are approximately 1000 samples to train our model on. Because of the few samples, we have to be careful not to overfit the training data.\n",
    "\n",
    "Let's check the dataset for any missing values."
   ]
  },
  {
   "cell_type": "code",
   "execution_count": 4,
   "id": "74c56107-a4e7-4e25-a9f2-ca3053390672",
   "metadata": {},
   "outputs": [
    {
     "data": {
      "text/html": [
       "<div>\n",
       "<style scoped>\n",
       "    .dataframe tbody tr th:only-of-type {\n",
       "        vertical-align: middle;\n",
       "    }\n",
       "\n",
       "    .dataframe tbody tr th {\n",
       "        vertical-align: top;\n",
       "    }\n",
       "\n",
       "    .dataframe thead th {\n",
       "        text-align: right;\n",
       "    }\n",
       "</style>\n",
       "<table border=\"1\" class=\"dataframe\">\n",
       "  <thead>\n",
       "    <tr style=\"text-align: right;\">\n",
       "      <th></th>\n",
       "      <th>Cement</th>\n",
       "      <th>Blast Furnace Slag</th>\n",
       "      <th>Fly Ash</th>\n",
       "      <th>Water</th>\n",
       "      <th>Superplasticizer</th>\n",
       "      <th>Coarse Aggregate</th>\n",
       "      <th>Fine Aggregate</th>\n",
       "      <th>Age</th>\n",
       "      <th>Strength</th>\n",
       "    </tr>\n",
       "  </thead>\n",
       "  <tbody>\n",
       "    <tr>\n",
       "      <th>count</th>\n",
       "      <td>1030.000000</td>\n",
       "      <td>1030.000000</td>\n",
       "      <td>1030.000000</td>\n",
       "      <td>1030.000000</td>\n",
       "      <td>1030.000000</td>\n",
       "      <td>1030.000000</td>\n",
       "      <td>1030.000000</td>\n",
       "      <td>1030.000000</td>\n",
       "      <td>1030.000000</td>\n",
       "    </tr>\n",
       "    <tr>\n",
       "      <th>mean</th>\n",
       "      <td>281.167864</td>\n",
       "      <td>73.895825</td>\n",
       "      <td>54.188350</td>\n",
       "      <td>181.567282</td>\n",
       "      <td>6.204660</td>\n",
       "      <td>972.918932</td>\n",
       "      <td>773.580485</td>\n",
       "      <td>45.662136</td>\n",
       "      <td>35.817961</td>\n",
       "    </tr>\n",
       "    <tr>\n",
       "      <th>std</th>\n",
       "      <td>104.506364</td>\n",
       "      <td>86.279342</td>\n",
       "      <td>63.997004</td>\n",
       "      <td>21.354219</td>\n",
       "      <td>5.973841</td>\n",
       "      <td>77.753954</td>\n",
       "      <td>80.175980</td>\n",
       "      <td>63.169912</td>\n",
       "      <td>16.705742</td>\n",
       "    </tr>\n",
       "    <tr>\n",
       "      <th>min</th>\n",
       "      <td>102.000000</td>\n",
       "      <td>0.000000</td>\n",
       "      <td>0.000000</td>\n",
       "      <td>121.800000</td>\n",
       "      <td>0.000000</td>\n",
       "      <td>801.000000</td>\n",
       "      <td>594.000000</td>\n",
       "      <td>1.000000</td>\n",
       "      <td>2.330000</td>\n",
       "    </tr>\n",
       "    <tr>\n",
       "      <th>25%</th>\n",
       "      <td>192.375000</td>\n",
       "      <td>0.000000</td>\n",
       "      <td>0.000000</td>\n",
       "      <td>164.900000</td>\n",
       "      <td>0.000000</td>\n",
       "      <td>932.000000</td>\n",
       "      <td>730.950000</td>\n",
       "      <td>7.000000</td>\n",
       "      <td>23.710000</td>\n",
       "    </tr>\n",
       "    <tr>\n",
       "      <th>50%</th>\n",
       "      <td>272.900000</td>\n",
       "      <td>22.000000</td>\n",
       "      <td>0.000000</td>\n",
       "      <td>185.000000</td>\n",
       "      <td>6.400000</td>\n",
       "      <td>968.000000</td>\n",
       "      <td>779.500000</td>\n",
       "      <td>28.000000</td>\n",
       "      <td>34.445000</td>\n",
       "    </tr>\n",
       "    <tr>\n",
       "      <th>75%</th>\n",
       "      <td>350.000000</td>\n",
       "      <td>142.950000</td>\n",
       "      <td>118.300000</td>\n",
       "      <td>192.000000</td>\n",
       "      <td>10.200000</td>\n",
       "      <td>1029.400000</td>\n",
       "      <td>824.000000</td>\n",
       "      <td>56.000000</td>\n",
       "      <td>46.135000</td>\n",
       "    </tr>\n",
       "    <tr>\n",
       "      <th>max</th>\n",
       "      <td>540.000000</td>\n",
       "      <td>359.400000</td>\n",
       "      <td>200.100000</td>\n",
       "      <td>247.000000</td>\n",
       "      <td>32.200000</td>\n",
       "      <td>1145.000000</td>\n",
       "      <td>992.600000</td>\n",
       "      <td>365.000000</td>\n",
       "      <td>82.600000</td>\n",
       "    </tr>\n",
       "  </tbody>\n",
       "</table>\n",
       "</div>"
      ],
      "text/plain": [
       "            Cement  Blast Furnace Slag      Fly Ash        Water  \\\n",
       "count  1030.000000         1030.000000  1030.000000  1030.000000   \n",
       "mean    281.167864           73.895825    54.188350   181.567282   \n",
       "std     104.506364           86.279342    63.997004    21.354219   \n",
       "min     102.000000            0.000000     0.000000   121.800000   \n",
       "25%     192.375000            0.000000     0.000000   164.900000   \n",
       "50%     272.900000           22.000000     0.000000   185.000000   \n",
       "75%     350.000000          142.950000   118.300000   192.000000   \n",
       "max     540.000000          359.400000   200.100000   247.000000   \n",
       "\n",
       "       Superplasticizer  Coarse Aggregate  Fine Aggregate          Age  \\\n",
       "count       1030.000000       1030.000000     1030.000000  1030.000000   \n",
       "mean           6.204660        972.918932      773.580485    45.662136   \n",
       "std            5.973841         77.753954       80.175980    63.169912   \n",
       "min            0.000000        801.000000      594.000000     1.000000   \n",
       "25%            0.000000        932.000000      730.950000     7.000000   \n",
       "50%            6.400000        968.000000      779.500000    28.000000   \n",
       "75%           10.200000       1029.400000      824.000000    56.000000   \n",
       "max           32.200000       1145.000000      992.600000   365.000000   \n",
       "\n",
       "          Strength  \n",
       "count  1030.000000  \n",
       "mean     35.817961  \n",
       "std      16.705742  \n",
       "min       2.330000  \n",
       "25%      23.710000  \n",
       "50%      34.445000  \n",
       "75%      46.135000  \n",
       "max      82.600000  "
      ]
     },
     "execution_count": 4,
     "metadata": {},
     "output_type": "execute_result"
    }
   ],
   "source": [
    "concrete_data.describe()"
   ]
  },
  {
   "cell_type": "code",
   "execution_count": 5,
   "id": "4193f683-2f9c-47b8-b797-da8241f8524c",
   "metadata": {},
   "outputs": [
    {
     "data": {
      "text/plain": [
       "Cement                0\n",
       "Blast Furnace Slag    0\n",
       "Fly Ash               0\n",
       "Water                 0\n",
       "Superplasticizer      0\n",
       "Coarse Aggregate      0\n",
       "Fine Aggregate        0\n",
       "Age                   0\n",
       "Strength              0\n",
       "dtype: int64"
      ]
     },
     "execution_count": 5,
     "metadata": {},
     "output_type": "execute_result"
    }
   ],
   "source": [
    "concrete_data.isnull().sum()"
   ]
  },
  {
   "cell_type": "markdown",
   "id": "f8d1b87f-5e7a-4990-9c45-58004e24abfe",
   "metadata": {
    "tags": []
   },
   "source": [
    "The data looks very clean and is ready to be used to build our model."
   ]
  },
  {
   "cell_type": "code",
   "execution_count": 6,
   "id": "3245b7e2-3392-44bd-a86c-2146723dd684",
   "metadata": {},
   "outputs": [],
   "source": [
    "concrete_data_columns = concrete_data.columns\n",
    "\n",
    "target = concrete_data[\"Strength\"]\n",
    "predictors = concrete_data.drop([\"Strength\", \"Age\"], axis=1)"
   ]
  },
  {
   "cell_type": "markdown",
   "id": "d56ff165",
   "metadata": {},
   "source": [
    "Let's do a quick sanity check of the predictors and the target dataframes."
   ]
  },
  {
   "cell_type": "code",
   "execution_count": 7,
   "id": "281d09c1-32c8-43df-8deb-68b46ae069de",
   "metadata": {},
   "outputs": [
    {
     "data": {
      "text/html": [
       "<div>\n",
       "<style scoped>\n",
       "    .dataframe tbody tr th:only-of-type {\n",
       "        vertical-align: middle;\n",
       "    }\n",
       "\n",
       "    .dataframe tbody tr th {\n",
       "        vertical-align: top;\n",
       "    }\n",
       "\n",
       "    .dataframe thead th {\n",
       "        text-align: right;\n",
       "    }\n",
       "</style>\n",
       "<table border=\"1\" class=\"dataframe\">\n",
       "  <thead>\n",
       "    <tr style=\"text-align: right;\">\n",
       "      <th></th>\n",
       "      <th>Cement</th>\n",
       "      <th>Blast Furnace Slag</th>\n",
       "      <th>Fly Ash</th>\n",
       "      <th>Water</th>\n",
       "      <th>Superplasticizer</th>\n",
       "      <th>Coarse Aggregate</th>\n",
       "      <th>Fine Aggregate</th>\n",
       "    </tr>\n",
       "  </thead>\n",
       "  <tbody>\n",
       "    <tr>\n",
       "      <th>0</th>\n",
       "      <td>540.0</td>\n",
       "      <td>0.0</td>\n",
       "      <td>0.0</td>\n",
       "      <td>162.0</td>\n",
       "      <td>2.5</td>\n",
       "      <td>1040.0</td>\n",
       "      <td>676.0</td>\n",
       "    </tr>\n",
       "    <tr>\n",
       "      <th>1</th>\n",
       "      <td>540.0</td>\n",
       "      <td>0.0</td>\n",
       "      <td>0.0</td>\n",
       "      <td>162.0</td>\n",
       "      <td>2.5</td>\n",
       "      <td>1055.0</td>\n",
       "      <td>676.0</td>\n",
       "    </tr>\n",
       "    <tr>\n",
       "      <th>2</th>\n",
       "      <td>332.5</td>\n",
       "      <td>142.5</td>\n",
       "      <td>0.0</td>\n",
       "      <td>228.0</td>\n",
       "      <td>0.0</td>\n",
       "      <td>932.0</td>\n",
       "      <td>594.0</td>\n",
       "    </tr>\n",
       "    <tr>\n",
       "      <th>3</th>\n",
       "      <td>332.5</td>\n",
       "      <td>142.5</td>\n",
       "      <td>0.0</td>\n",
       "      <td>228.0</td>\n",
       "      <td>0.0</td>\n",
       "      <td>932.0</td>\n",
       "      <td>594.0</td>\n",
       "    </tr>\n",
       "    <tr>\n",
       "      <th>4</th>\n",
       "      <td>198.6</td>\n",
       "      <td>132.4</td>\n",
       "      <td>0.0</td>\n",
       "      <td>192.0</td>\n",
       "      <td>0.0</td>\n",
       "      <td>978.4</td>\n",
       "      <td>825.5</td>\n",
       "    </tr>\n",
       "  </tbody>\n",
       "</table>\n",
       "</div>"
      ],
      "text/plain": [
       "   Cement  Blast Furnace Slag  Fly Ash  Water  Superplasticizer  \\\n",
       "0   540.0                 0.0      0.0  162.0               2.5   \n",
       "1   540.0                 0.0      0.0  162.0               2.5   \n",
       "2   332.5               142.5      0.0  228.0               0.0   \n",
       "3   332.5               142.5      0.0  228.0               0.0   \n",
       "4   198.6               132.4      0.0  192.0               0.0   \n",
       "\n",
       "   Coarse Aggregate  Fine Aggregate  \n",
       "0            1040.0           676.0  \n",
       "1            1055.0           676.0  \n",
       "2             932.0           594.0  \n",
       "3             932.0           594.0  \n",
       "4             978.4           825.5  "
      ]
     },
     "execution_count": 7,
     "metadata": {},
     "output_type": "execute_result"
    }
   ],
   "source": [
    "predictors.head()"
   ]
  },
  {
   "cell_type": "code",
   "execution_count": 8,
   "id": "869bb6cc-a513-4905-8b9d-1905ef74d43b",
   "metadata": {},
   "outputs": [
    {
     "data": {
      "text/plain": [
       "0    79.99\n",
       "1    61.89\n",
       "2    40.27\n",
       "3    41.05\n",
       "4    44.30\n",
       "Name: Strength, dtype: float64"
      ]
     },
     "execution_count": 8,
     "metadata": {},
     "output_type": "execute_result"
    }
   ],
   "source": [
    "target.head()"
   ]
  },
  {
   "cell_type": "code",
   "execution_count": 9,
   "id": "a1d22723-aeeb-4825-afb9-42a85f55d163",
   "metadata": {},
   "outputs": [
    {
     "data": {
      "text/html": [
       "<div>\n",
       "<style scoped>\n",
       "    .dataframe tbody tr th:only-of-type {\n",
       "        vertical-align: middle;\n",
       "    }\n",
       "\n",
       "    .dataframe tbody tr th {\n",
       "        vertical-align: top;\n",
       "    }\n",
       "\n",
       "    .dataframe thead th {\n",
       "        text-align: right;\n",
       "    }\n",
       "</style>\n",
       "<table border=\"1\" class=\"dataframe\">\n",
       "  <thead>\n",
       "    <tr style=\"text-align: right;\">\n",
       "      <th></th>\n",
       "      <th>Cement</th>\n",
       "      <th>Blast Furnace Slag</th>\n",
       "      <th>Fly Ash</th>\n",
       "      <th>Water</th>\n",
       "      <th>Superplasticizer</th>\n",
       "      <th>Coarse Aggregate</th>\n",
       "      <th>Fine Aggregate</th>\n",
       "    </tr>\n",
       "  </thead>\n",
       "  <tbody>\n",
       "    <tr>\n",
       "      <th>0</th>\n",
       "      <td>2.476712</td>\n",
       "      <td>-0.856472</td>\n",
       "      <td>-0.846733</td>\n",
       "      <td>-0.916319</td>\n",
       "      <td>-0.620147</td>\n",
       "      <td>0.862735</td>\n",
       "      <td>-1.217079</td>\n",
       "    </tr>\n",
       "    <tr>\n",
       "      <th>1</th>\n",
       "      <td>2.476712</td>\n",
       "      <td>-0.856472</td>\n",
       "      <td>-0.846733</td>\n",
       "      <td>-0.916319</td>\n",
       "      <td>-0.620147</td>\n",
       "      <td>1.055651</td>\n",
       "      <td>-1.217079</td>\n",
       "    </tr>\n",
       "    <tr>\n",
       "      <th>2</th>\n",
       "      <td>0.491187</td>\n",
       "      <td>0.795140</td>\n",
       "      <td>-0.846733</td>\n",
       "      <td>2.174405</td>\n",
       "      <td>-1.038638</td>\n",
       "      <td>-0.526262</td>\n",
       "      <td>-2.239829</td>\n",
       "    </tr>\n",
       "    <tr>\n",
       "      <th>3</th>\n",
       "      <td>0.491187</td>\n",
       "      <td>0.795140</td>\n",
       "      <td>-0.846733</td>\n",
       "      <td>2.174405</td>\n",
       "      <td>-1.038638</td>\n",
       "      <td>-0.526262</td>\n",
       "      <td>-2.239829</td>\n",
       "    </tr>\n",
       "    <tr>\n",
       "      <th>4</th>\n",
       "      <td>-0.790075</td>\n",
       "      <td>0.678079</td>\n",
       "      <td>-0.846733</td>\n",
       "      <td>0.488555</td>\n",
       "      <td>-1.038638</td>\n",
       "      <td>0.070492</td>\n",
       "      <td>0.647569</td>\n",
       "    </tr>\n",
       "  </tbody>\n",
       "</table>\n",
       "</div>"
      ],
      "text/plain": [
       "     Cement  Blast Furnace Slag   Fly Ash     Water  Superplasticizer  \\\n",
       "0  2.476712           -0.856472 -0.846733 -0.916319         -0.620147   \n",
       "1  2.476712           -0.856472 -0.846733 -0.916319         -0.620147   \n",
       "2  0.491187            0.795140 -0.846733  2.174405         -1.038638   \n",
       "3  0.491187            0.795140 -0.846733  2.174405         -1.038638   \n",
       "4 -0.790075            0.678079 -0.846733  0.488555         -1.038638   \n",
       "\n",
       "   Coarse Aggregate  Fine Aggregate  \n",
       "0          0.862735       -1.217079  \n",
       "1          1.055651       -1.217079  \n",
       "2         -0.526262       -2.239829  \n",
       "3         -0.526262       -2.239829  \n",
       "4          0.070492        0.647569  "
      ]
     },
     "execution_count": 9,
     "metadata": {},
     "output_type": "execute_result"
    }
   ],
   "source": [
    "predictors_norm = (predictors - predictors.mean()) / predictors.std()\n",
    "predictors_norm.head()"
   ]
  },
  {
   "cell_type": "code",
   "execution_count": 10,
   "id": "b4166a4d-d86e-4798-9285-4496e156d079",
   "metadata": {},
   "outputs": [
    {
     "data": {
      "text/plain": [
       "7"
      ]
     },
     "execution_count": 10,
     "metadata": {},
     "output_type": "execute_result"
    }
   ],
   "source": [
    "n_cols = predictors_norm.shape[1]  # number of predictors\n",
    "n_cols"
   ]
  },
  {
   "cell_type": "markdown",
   "id": "e316b9bc",
   "metadata": {},
   "source": [
    "***"
   ]
  },
  {
   "cell_type": "markdown",
   "id": "c6f3164a",
   "metadata": {},
   "source": [
    "## Keras\n",
    "\n",
    "Recall from the videos that Keras normally runs on top of a low-level library such as TensorFlow. This means that to be able to use the Keras library, you will have to install TensorFlow first and when you import the Keras library, it will be explicitly displayed what backend was used to install the Keras library. In CC Labs, we used TensorFlow as the backend to install Keras, so it should clearly print that when we import Keras."
   ]
  },
  {
   "cell_type": "code",
   "execution_count": 11,
   "id": "369a4d20-3318-486c-841a-6036b877e9d8",
   "metadata": {},
   "outputs": [],
   "source": [
    "import warnings\n",
    "warnings.filterwarnings(\"ignore\")\n",
    "import keras"
   ]
  },
  {
   "cell_type": "code",
   "execution_count": 12,
   "id": "f66eb622-09a3-4625-b491-4d7f16659d2e",
   "metadata": {},
   "outputs": [],
   "source": [
    "from keras.models import Sequential\n",
    "from keras.layers import Dense"
   ]
  },
  {
   "cell_type": "markdown",
   "id": "f42cf42c",
   "metadata": {},
   "source": [
    "## Build a Neural Network\n",
    "\n",
    "Let's define a function that defines our regression model for us so that we can conveniently call it to create our model.\n"
   ]
  },
  {
   "cell_type": "code",
   "execution_count": 13,
   "id": "c5628e95-e609-451f-943e-1145d51ccb38",
   "metadata": {},
   "outputs": [],
   "source": [
    "# Define regression model\n",
    "def regression_model():\n",
    "    # 1-Create model\n",
    "    model = Sequential()\n",
    "    model.add(Dense(10, activation='relu', input_shape=(n_cols,)))\n",
    "    model.add(Dense(1))\n",
    "    \n",
    "    # 2-Compile model\n",
    "    model.compile(optimizer='adam', loss='mean_squared_error')\n",
    "    return model"
   ]
  },
  {
   "cell_type": "code",
   "execution_count": 14,
   "id": "8d40b0be-211a-40b4-a0f2-81921571eb70",
   "metadata": {},
   "outputs": [],
   "source": [
    "from sklearn.model_selection import train_test_split"
   ]
  },
  {
   "cell_type": "code",
   "execution_count": 15,
   "id": "9aae7026-a466-42ec-8dce-55922fcddd30",
   "metadata": {},
   "outputs": [],
   "source": [
    "X_train, X_test, y_train, y_test = train_test_split(predictors, target, test_size=0.3, random_state=42)"
   ]
  },
  {
   "cell_type": "code",
   "execution_count": 16,
   "id": "99d9aa01-f42c-423f-b455-842b26c6b602",
   "metadata": {},
   "outputs": [],
   "source": [
    "model = regression_model()"
   ]
  },
  {
   "cell_type": "code",
   "execution_count": 17,
   "id": "d7fbe62c-9cd3-4c02-b79b-795193062f9b",
   "metadata": {},
   "outputs": [
    {
     "name": "stdout",
     "output_type": "stream",
     "text": [
      "Epoch 1/100\n",
      "23/23 [==============================] - 0s 2ms/step - loss: 24729.6836\n",
      "Epoch 2/100\n",
      "23/23 [==============================] - 0s 2ms/step - loss: 7458.7744\n",
      "Epoch 3/100\n",
      "23/23 [==============================] - 0s 2ms/step - loss: 4838.7363\n",
      "Epoch 4/100\n",
      "23/23 [==============================] - 0s 817us/step - loss: 3816.5142\n",
      "Epoch 5/100\n",
      "23/23 [==============================] - 0s 923us/step - loss: 3126.7258\n",
      "Epoch 6/100\n",
      "23/23 [==============================] - 0s 970us/step - loss: 2653.5710\n",
      "Epoch 7/100\n",
      "23/23 [==============================] - 0s 954us/step - loss: 2261.7776\n",
      "Epoch 8/100\n",
      "23/23 [==============================] - 0s 928us/step - loss: 1919.7834\n",
      "Epoch 9/100\n",
      "23/23 [==============================] - 0s 931us/step - loss: 1639.4254\n",
      "Epoch 10/100\n",
      "23/23 [==============================] - 0s 1ms/step - loss: 1402.8625\n",
      "Epoch 11/100\n",
      "23/23 [==============================] - 0s 949us/step - loss: 1215.5603\n",
      "Epoch 12/100\n",
      "23/23 [==============================] - ETA: 0s - loss: 832.180 - 0s 919us/step - loss: 1045.5919\n",
      "Epoch 13/100\n",
      "23/23 [==============================] - 0s 953us/step - loss: 915.9987\n",
      "Epoch 14/100\n",
      "23/23 [==============================] - 0s 957us/step - loss: 804.2131\n",
      "Epoch 15/100\n",
      "23/23 [==============================] - 0s 947us/step - loss: 715.0408\n",
      "Epoch 16/100\n",
      "23/23 [==============================] - 0s 939us/step - loss: 636.3646\n",
      "Epoch 17/100\n",
      "23/23 [==============================] - 0s 998us/step - loss: 570.7748\n",
      "Epoch 18/100\n",
      "23/23 [==============================] - 0s 1ms/step - loss: 520.0850\n",
      "Epoch 19/100\n",
      "23/23 [==============================] - 0s 1ms/step - loss: 477.4858\n",
      "Epoch 20/100\n",
      "23/23 [==============================] - 0s 972us/step - loss: 449.3340\n",
      "Epoch 21/100\n",
      "23/23 [==============================] - ETA: 0s - loss: 199.380 - 0s 969us/step - loss: 416.0887\n",
      "Epoch 22/100\n",
      "23/23 [==============================] - 0s 1ms/step - loss: 395.1946\n",
      "Epoch 23/100\n",
      "23/23 [==============================] - 0s 983us/step - loss: 381.9065\n",
      "Epoch 24/100\n",
      "23/23 [==============================] - 0s 936us/step - loss: 364.3742\n",
      "Epoch 25/100\n",
      "23/23 [==============================] - 0s 981us/step - loss: 352.5620\n",
      "Epoch 26/100\n",
      "23/23 [==============================] - 0s 1ms/step - loss: 345.2588\n",
      "Epoch 27/100\n",
      "23/23 [==============================] - 0s 1ms/step - loss: 331.9505\n",
      "Epoch 28/100\n",
      "23/23 [==============================] - 0s 2ms/step - loss: 322.3667\n",
      "Epoch 29/100\n",
      "23/23 [==============================] - 0s 2ms/step - loss: 313.9082\n",
      "Epoch 30/100\n",
      "23/23 [==============================] - 0s 2ms/step - loss: 309.9516\n",
      "Epoch 31/100\n",
      "23/23 [==============================] - 0s 2ms/step - loss: 301.7400\n",
      "Epoch 32/100\n",
      "23/23 [==============================] - 0s 947us/step - loss: 297.7905\n",
      "Epoch 33/100\n",
      "23/23 [==============================] - 0s 1ms/step - loss: 290.8501\n",
      "Epoch 34/100\n",
      "23/23 [==============================] - 0s 887us/step - loss: 284.8190\n",
      "Epoch 35/100\n",
      "23/23 [==============================] - 0s 933us/step - loss: 285.2808\n",
      "Epoch 36/100\n",
      "23/23 [==============================] - 0s 962us/step - loss: 275.8368\n",
      "Epoch 37/100\n",
      "23/23 [==============================] - 0s 997us/step - loss: 275.7720\n",
      "Epoch 38/100\n",
      "23/23 [==============================] - 0s 975us/step - loss: 265.0647\n",
      "Epoch 39/100\n",
      "23/23 [==============================] - 0s 1ms/step - loss: 260.5763\n",
      "Epoch 40/100\n",
      "23/23 [==============================] - 0s 2ms/step - loss: 258.3679\n",
      "Epoch 41/100\n",
      "23/23 [==============================] - 0s 2ms/step - loss: 255.2159\n",
      "Epoch 42/100\n",
      "23/23 [==============================] - 0s 2ms/step - loss: 249.3993\n",
      "Epoch 43/100\n",
      "23/23 [==============================] - 0s 2ms/step - loss: 245.9743\n",
      "Epoch 44/100\n",
      "23/23 [==============================] - 0s 1ms/step - loss: 240.6232\n",
      "Epoch 45/100\n",
      "23/23 [==============================] - 0s 1ms/step - loss: 234.7372\n",
      "Epoch 46/100\n",
      "23/23 [==============================] - 0s 1000us/step - loss: 233.2937\n",
      "Epoch 47/100\n",
      "23/23 [==============================] - 0s 1ms/step - loss: 227.0596\n",
      "Epoch 48/100\n",
      "23/23 [==============================] - 0s 941us/step - loss: 226.6740\n",
      "Epoch 49/100\n",
      "23/23 [==============================] - 0s 818us/step - loss: 221.5666\n",
      "Epoch 50/100\n",
      "23/23 [==============================] - 0s 1ms/step - loss: 218.8404\n",
      "Epoch 51/100\n",
      "23/23 [==============================] - 0s 2ms/step - loss: 213.0002\n",
      "Epoch 52/100\n",
      "23/23 [==============================] - 0s 2ms/step - loss: 213.1610\n",
      "Epoch 53/100\n",
      "23/23 [==============================] - 0s 2ms/step - loss: 207.1263\n",
      "Epoch 54/100\n",
      "23/23 [==============================] - 0s 2ms/step - loss: 208.1505\n",
      "Epoch 55/100\n",
      "23/23 [==============================] - ETA: 0s - loss: 220.755 - 0s 952us/step - loss: 207.8008\n",
      "Epoch 56/100\n",
      "23/23 [==============================] - 0s 952us/step - loss: 200.3763\n",
      "Epoch 57/100\n",
      "23/23 [==============================] - 0s 822us/step - loss: 199.3191\n",
      "Epoch 58/100\n",
      "23/23 [==============================] - 0s 1ms/step - loss: 200.2623\n",
      "Epoch 59/100\n",
      "23/23 [==============================] - 0s 805us/step - loss: 196.6804\n",
      "Epoch 60/100\n",
      "23/23 [==============================] - 0s 971us/step - loss: 197.1393\n",
      "Epoch 61/100\n",
      "23/23 [==============================] - 0s 1ms/step - loss: 195.0539\n",
      "Epoch 62/100\n",
      "23/23 [==============================] - 0s 923us/step - loss: 197.1644\n",
      "Epoch 63/100\n",
      "23/23 [==============================] - 0s 2ms/step - loss: 190.5036\n",
      "Epoch 64/100\n",
      "23/23 [==============================] - ETA: 0s - loss: 201.123 - 0s 2ms/step - loss: 189.4433\n",
      "Epoch 65/100\n",
      "23/23 [==============================] - 0s 2ms/step - loss: 189.1036\n",
      "Epoch 66/100\n",
      "23/23 [==============================] - 0s 2ms/step - loss: 184.4664\n",
      "Epoch 67/100\n",
      "23/23 [==============================] - 0s 958us/step - loss: 184.1421\n",
      "Epoch 68/100\n",
      "23/23 [==============================] - 0s 846us/step - loss: 182.9531\n",
      "Epoch 69/100\n",
      "23/23 [==============================] - ETA: 0s - loss: 148.961 - 0s 796us/step - loss: 180.7571\n",
      "Epoch 70/100\n",
      "23/23 [==============================] - 0s 852us/step - loss: 182.6434\n",
      "Epoch 71/100\n",
      "23/23 [==============================] - 0s 941us/step - loss: 179.7583\n",
      "Epoch 72/100\n",
      "23/23 [==============================] - 0s 908us/step - loss: 180.4562\n",
      "Epoch 73/100\n",
      "23/23 [==============================] - 0s 977us/step - loss: 181.0478\n",
      "Epoch 74/100\n",
      "23/23 [==============================] - 0s 1ms/step - loss: 176.1372\n",
      "Epoch 75/100\n",
      "23/23 [==============================] - 0s 2ms/step - loss: 181.7093\n",
      "Epoch 76/100\n",
      "23/23 [==============================] - 0s 2ms/step - loss: 179.7774\n",
      "Epoch 77/100\n",
      "23/23 [==============================] - 0s 2ms/step - loss: 174.0223\n",
      "Epoch 78/100\n",
      "23/23 [==============================] - 0s 2ms/step - loss: 173.0500\n",
      "Epoch 79/100\n",
      "23/23 [==============================] - 0s 902us/step - loss: 173.8666\n",
      "Epoch 80/100\n",
      "23/23 [==============================] - 0s 952us/step - loss: 174.4363\n",
      "Epoch 81/100\n",
      "23/23 [==============================] - 0s 936us/step - loss: 171.9933\n",
      "Epoch 82/100\n",
      "23/23 [==============================] - 0s 920us/step - loss: 171.8631\n",
      "Epoch 83/100\n",
      "23/23 [==============================] - 0s 845us/step - loss: 171.6850\n",
      "Epoch 84/100\n",
      "23/23 [==============================] - 0s 841us/step - loss: 177.2397\n",
      "Epoch 85/100\n",
      "23/23 [==============================] - 0s 958us/step - loss: 171.0782\n",
      "Epoch 86/100\n",
      "23/23 [==============================] - 0s 1ms/step - loss: 166.7905\n",
      "Epoch 87/100\n",
      "23/23 [==============================] - 0s 864us/step - loss: 168.9389\n",
      "Epoch 88/100\n",
      "23/23 [==============================] - 0s 977us/step - loss: 168.7800\n",
      "Epoch 89/100\n",
      "23/23 [==============================] - 0s 957us/step - loss: 169.5631\n",
      "Epoch 90/100\n",
      "23/23 [==============================] - 0s 952us/step - loss: 176.2217\n",
      "Epoch 91/100\n",
      "23/23 [==============================] - 0s 1ms/step - loss: 167.8331\n",
      "Epoch 92/100\n",
      "23/23 [==============================] - 0s 2ms/step - loss: 168.8558\n",
      "Epoch 93/100\n",
      "23/23 [==============================] - 0s 2ms/step - loss: 166.0437\n",
      "Epoch 94/100\n",
      "23/23 [==============================] - 0s 2ms/step - loss: 166.9552\n",
      "Epoch 95/100\n",
      "23/23 [==============================] - ETA: 0s - loss: 137.526 - 0s 2ms/step - loss: 164.2334\n",
      "Epoch 96/100\n"
     ]
    },
    {
     "name": "stdout",
     "output_type": "stream",
     "text": [
      "23/23 [==============================] - 0s 2ms/step - loss: 169.9814\n",
      "Epoch 97/100\n",
      "23/23 [==============================] - 0s 2ms/step - loss: 163.3132\n",
      "Epoch 98/100\n",
      "23/23 [==============================] - 0s 1ms/step - loss: 166.8344\n",
      "Epoch 99/100\n",
      "23/23 [==============================] - 0s 798us/step - loss: 163.6809\n",
      "Epoch 100/100\n",
      "23/23 [==============================] - 0s 810us/step - loss: 163.7814\n"
     ]
    },
    {
     "data": {
      "text/plain": [
       "<keras.callbacks.History at 0x2acf61d17c0>"
      ]
     },
     "execution_count": 17,
     "metadata": {},
     "output_type": "execute_result"
    }
   ],
   "source": [
    "epochs = 100\n",
    "model.fit(X_train, y_train, epochs=epochs, verbose=1)"
   ]
  },
  {
   "cell_type": "code",
   "execution_count": 18,
   "id": "0d30c599-49a6-416a-9984-0b0c9a42c131",
   "metadata": {},
   "outputs": [
    {
     "name": "stdout",
     "output_type": "stream",
     "text": [
      "10/10 [==============================] - 0s 886us/step - loss: 171.0525\n"
     ]
    },
    {
     "data": {
      "text/plain": [
       "171.05252075195312"
      ]
     },
     "execution_count": 18,
     "metadata": {},
     "output_type": "execute_result"
    }
   ],
   "source": [
    "loss_val = model.evaluate(X_test, y_test)\n",
    "y_pred = model.predict(X_test)\n",
    "loss_val"
   ]
  },
  {
   "cell_type": "markdown",
   "id": "1afc0f85",
   "metadata": {},
   "source": [
    "***"
   ]
  },
  {
   "cell_type": "markdown",
   "id": "7a2bdbf7",
   "metadata": {},
   "source": [
    "### Mean Squared Error"
   ]
  },
  {
   "cell_type": "code",
   "execution_count": 19,
   "id": "64a983f8-3642-4098-aeef-b1686f9b8e6d",
   "metadata": {},
   "outputs": [],
   "source": [
    "from sklearn.metrics import mean_squared_error"
   ]
  },
  {
   "cell_type": "code",
   "execution_count": 20,
   "id": "bc9d4779-f740-48ac-ae15-6d375f86cb3c",
   "metadata": {},
   "outputs": [
    {
     "name": "stdout",
     "output_type": "stream",
     "text": [
      "Mean: 171.05250175678216\n",
      "Standard Deviation: 0.0\n"
     ]
    }
   ],
   "source": [
    "mean_square_error = mean_squared_error(y_test, y_pred)\n",
    "mean = np.mean(mean_square_error)\n",
    "standard_deviation = np.std(mean_square_error)\n",
    "print(f\"Mean: {mean}\\nStandard Deviation: {standard_deviation}\")"
   ]
  },
  {
   "cell_type": "code",
   "execution_count": 21,
   "id": "87c86cce-2e4c-4e9e-9007-404c8c586a63",
   "metadata": {},
   "outputs": [
    {
     "name": "stdout",
     "output_type": "stream",
     "text": [
      "Mean Squared Error 1: 141.35183715820312\n",
      "Mean Squared Error 2: 160.56797790527344\n",
      "Mean Squared Error 3: 161.73928833007812\n",
      "Mean Squared Error 4: 187.150390625\n",
      "Mean Squared Error 5: 179.1959686279297\n",
      "Mean Squared Error 6: 193.71246337890625\n",
      "Mean Squared Error 7: 176.01434326171875\n",
      "Mean Squared Error 8: 154.51031494140625\n",
      "Mean Squared Error 9: 163.10130310058594\n",
      "Mean Squared Error 10: 166.17807006835938\n",
      "Mean Squared Error 11: 161.30532836914062\n",
      "Mean Squared Error 12: 144.8494110107422\n",
      "Mean Squared Error 13: 146.93914794921875\n",
      "Mean Squared Error 14: 165.2831268310547\n",
      "Mean Squared Error 15: 148.51202392578125\n",
      "Mean Squared Error 16: 137.09300231933594\n",
      "Mean Squared Error 17: 150.0919189453125\n",
      "Mean Squared Error 18: 129.07554626464844\n",
      "Mean Squared Error 19: 139.4480743408203\n",
      "Mean Squared Error 20: 164.4240264892578\n",
      "Mean Squared Error 21: 137.41229248046875\n",
      "Mean Squared Error 22: 153.1256103515625\n",
      "Mean Squared Error 23: 170.66787719726562\n",
      "Mean Squared Error 24: 146.36798095703125\n",
      "Mean Squared Error 25: 150.6710968017578\n",
      "Mean Squared Error 26: 150.04055786132812\n",
      "Mean Squared Error 27: 165.7964630126953\n",
      "Mean Squared Error 28: 148.14292907714844\n",
      "Mean Squared Error 29: 151.71315002441406\n",
      "Mean Squared Error 30: 150.89410400390625\n",
      "Mean Squared Error 31: 153.9143524169922\n",
      "Mean Squared Error 32: 149.43650817871094\n",
      "Mean Squared Error 33: 148.56129455566406\n",
      "Mean Squared Error 34: 147.20938110351562\n",
      "Mean Squared Error 35: 144.6951446533203\n",
      "Mean Squared Error 36: 163.62489318847656\n",
      "Mean Squared Error 37: 161.97140502929688\n",
      "Mean Squared Error 38: 162.39419555664062\n",
      "Mean Squared Error 39: 142.8210906982422\n",
      "Mean Squared Error 40: 144.45269775390625\n",
      "Mean Squared Error 41: 144.3595428466797\n",
      "Mean Squared Error 42: 146.98654174804688\n",
      "Mean Squared Error 43: 159.7277069091797\n",
      "Mean Squared Error 44: 160.95681762695312\n",
      "Mean Squared Error 45: 145.3084259033203\n",
      "Mean Squared Error 46: 150.69859313964844\n",
      "Mean Squared Error 47: 156.14340209960938\n",
      "Mean Squared Error 48: 159.09791564941406\n",
      "Mean Squared Error 49: 143.6106719970703\n",
      "Mean Squared Error 50: 159.88372802734375\n",
      "\n",
      "50 mean squared errors with normalized data. Total number of epochs for each training is: 50\n",
      "\n",
      "Mean: 154.82459815202736\n",
      "Standard Deviation: 12.473105647874172\n"
     ]
    }
   ],
   "source": [
    "total_mean_squared_errors = 50\n",
    "epochs = 50\n",
    "mean_squared_errors = []\n",
    "for i in range(0, total_mean_squared_errors):\n",
    "    X_train, X_test, y_train, y_test = train_test_split(predictors, target, test_size=0.3, random_state=i)\n",
    "    model.fit(X_train, y_train, epochs=epochs, verbose=0)\n",
    "    MSE = model.evaluate(X_test, y_test, verbose=0)\n",
    "    print(\"Mean Squared Error \" + str(i + 1) +\": \"+ str(MSE))\n",
    "    y_pred = model.predict(X_test)\n",
    "    mean_square_error = mean_squared_error(y_test, y_pred)\n",
    "    mean_squared_errors.append(mean_square_error)\n",
    "\n",
    "mean_squared_errors = np.array(mean_squared_errors)\n",
    "mean = np.mean(mean_squared_errors)\n",
    "standard_deviation = np.std(mean_squared_errors)\n",
    "\n",
    "print(\"\\n\" + str(total_mean_squared_errors) + \" mean squared errors with normalized data. Total number of epochs for each training is: \" + str(epochs) + \"\\n\")\n",
    "print(\"Mean: \"+ str(mean))\n",
    "print(\"Standard Deviation: \"+ str(standard_deviation))"
   ]
  }
 ],
 "metadata": {
  "kernelspec": {
   "display_name": "Python 3 (ipykernel)",
   "language": "python",
   "name": "python3"
  },
  "language_info": {
   "codemirror_mode": {
    "name": "ipython",
    "version": 3
   },
   "file_extension": ".py",
   "mimetype": "text/x-python",
   "name": "python",
   "nbconvert_exporter": "python",
   "pygments_lexer": "ipython3",
   "version": "3.9.7"
  }
 },
 "nbformat": 4,
 "nbformat_minor": 5
}
